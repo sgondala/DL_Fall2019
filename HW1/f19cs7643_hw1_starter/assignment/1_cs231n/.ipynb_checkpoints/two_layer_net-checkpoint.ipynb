{
 "cells": [
  {
   "cell_type": "markdown",
   "metadata": {},
   "source": [
    "# Implementing a Neural Network\n",
    "In this exercise we will develop a neural network with fully-connected layers to perform classification, and test it out on the CIFAR-10 dataset."
   ]
  },
  {
   "cell_type": "code",
   "execution_count": 1,
   "metadata": {},
   "outputs": [],
   "source": [
    "# A bit of setup\n",
    "\n",
    "import numpy as np\n",
    "import matplotlib.pyplot as plt\n",
    "\n",
    "%matplotlib inline\n",
    "plt.rcParams['figure.figsize'] = (10.0, 8.0) # set default size of plots\n",
    "plt.rcParams['image.interpolation'] = 'nearest'\n",
    "plt.rcParams['image.cmap'] = 'gray'\n",
    "\n",
    "# for auto-reloading external modules\n",
    "# see http://stackoverflow.com/questions/1907993/autoreload-of-modules-in-ipython\n",
    "%load_ext autoreload\n",
    "%autoreload 2\n",
    "\n",
    "def rel_error(x, y):\n",
    "  \"\"\" returns relative error \"\"\"\n",
    "  return np.max(np.abs(x - y) / (np.maximum(1e-8, np.abs(x) + np.abs(y))))"
   ]
  },
  {
   "cell_type": "markdown",
   "metadata": {},
   "source": [
    "The neural network parameters will be stored in a dictionary (`model` below), where the keys are the parameter names and the values are numpy arrays. Below, we initialize toy data and a toy model that we will use to verify your implementations."
   ]
  },
  {
   "cell_type": "code",
   "execution_count": 2,
   "metadata": {},
   "outputs": [],
   "source": [
    "# Create some toy data to check your implementations\n",
    "input_size = 4\n",
    "hidden_size = 10\n",
    "num_classes = 3\n",
    "num_inputs = 5\n",
    "\n",
    "def init_toy_model():\n",
    "  model = {}\n",
    "  model['W1'] = np.linspace(-0.2, 0.6, num=input_size*hidden_size).reshape(input_size, hidden_size)\n",
    "  model['b1'] = np.linspace(-0.3, 0.7, num=hidden_size)\n",
    "  model['W2'] = np.linspace(-0.4, 0.1, num=hidden_size*num_classes).reshape(hidden_size, num_classes)\n",
    "  model['b2'] = np.linspace(-0.5, 0.9, num=num_classes)\n",
    "  return model\n",
    "\n",
    "def init_toy_data():\n",
    "  X = np.linspace(-0.2, 0.5, num=num_inputs*input_size).reshape(num_inputs, input_size)\n",
    "  y = np.array([0, 1, 2, 2, 1])\n",
    "  return X, y\n",
    "\n",
    "model = init_toy_model()\n",
    "X, y = init_toy_data()"
   ]
  },
  {
   "cell_type": "markdown",
   "metadata": {},
   "source": [
    "# Forward pass: compute scores\n",
    "Open the file `cs231n/classifiers/neural_net.py` and look at the function `two_layer_net`. This function is very similar to the loss functions you have written for the Softmax exercise in HW0: It takes the data and weights and computes the class scores, the loss, and the gradients on the parameters. \n",
    "\n",
    "Implement the first part of the forward pass which uses the weights and biases to compute the scores for all inputs."
   ]
  },
  {
   "cell_type": "code",
   "execution_count": 32,
   "metadata": {},
   "outputs": [
    {
     "name": "stdout",
     "output_type": "stream",
     "text": [
      "[[-0.5328368   0.20031504  0.93346689]\n",
      " [-0.59412164  0.15498488  0.9040914 ]\n",
      " [-0.67658362  0.08978957  0.85616275]\n",
      " [-0.77092643  0.01339997  0.79772637]\n",
      " [-0.89110401 -0.08754544  0.71601312]]\n",
      "Difference between your scores and correct scores:\n",
      "3.848682278081994e-08\n"
     ]
    }
   ],
   "source": [
    "from cs231n.classifiers.neural_net import two_layer_net\n",
    "\n",
    "scores = two_layer_net(X, model)\n",
    "print(scores)\n",
    "correct_scores = [[-0.5328368, 0.20031504, 0.93346689],\n",
    " [-0.59412164, 0.15498488, 0.9040914 ],\n",
    " [-0.67658362, 0.08978957, 0.85616275],\n",
    " [-0.77092643, 0.01339997, 0.79772637],\n",
    " [-0.89110401, -0.08754544, 0.71601312]]\n",
    "\n",
    "# the difference should be very small. We get 3e-8\n",
    "print('Difference between your scores and correct scores:')\n",
    "print(np.sum(np.abs(scores - correct_scores)))"
   ]
  },
  {
   "cell_type": "markdown",
   "metadata": {},
   "source": [
    "# Forward pass: compute loss\n",
    "In the same function, implement the second part that computes the data and regularizaion loss."
   ]
  },
  {
   "cell_type": "code",
   "execution_count": 36,
   "metadata": {},
   "outputs": [
    {
     "name": "stdout",
     "output_type": "stream",
     "text": [
      "Difference between your loss and correct loss:\n",
      "3.605849741239453e-06\n"
     ]
    }
   ],
   "source": [
    "reg = 0.1\n",
    "loss, _ = two_layer_net(X, model, y, reg)\n",
    "correct_loss = 1.38191946092\n",
    "\n",
    "# should be very small, we get 5e-12\n",
    "print('Difference between your loss and correct loss:')\n",
    "print(np.sum(np.abs(loss - correct_loss)))"
   ]
  },
  {
   "cell_type": "markdown",
   "metadata": {},
   "source": [
    "# Backward pass\n",
    "Implement the rest of the function. This will compute the gradient of the loss with respect to the variables `W1`, `b1`, `W2`, and `b2`. Now that you (hopefully!) have a correctly implemented forward pass, you can debug your backward pass using a numeric gradient check:"
   ]
  },
  {
   "cell_type": "code",
   "execution_count": 39,
   "metadata": {},
   "outputs": [
    {
     "name": "stdout",
     "output_type": "stream",
     "text": [
      "W1 max relative error: 1.000000e+00\n",
      "[[-0.02000006 -0.02090804 -0.02756939 -0.05124926 -0.10419233 -0.14102278\n",
      "  -0.18360873 -0.22619476 -0.26878078 -0.31136681]\n",
      " [-0.07492511 -0.00067509 -0.00816115 -0.02953671 -0.08265393 -0.12537153\n",
      "  -0.17331637 -0.2212613  -0.26920624 -0.31715118]\n",
      " [-0.09855814  0.01955684  0.01124709 -0.00782416 -0.0611155  -0.10972024\n",
      "  -0.16302398 -0.21632783 -0.26963168 -0.32293553]\n",
      " [-0.12219116  0.03978877  0.03065533  0.0138884  -0.03957706 -0.09406894\n",
      "  -0.15273157 -0.21139433 -0.27005709 -0.32871985]] [[-0.2        -0.17948718 -0.15897436 -0.13846154 -0.11794872 -0.0974359\n",
      "  -0.07692308 -0.05641026 -0.03589744 -0.01538462]\n",
      " [ 0.00512821  0.02564103  0.04615385  0.06666667  0.08717949  0.10769231\n",
      "   0.12820513  0.14871795  0.16923077  0.18974359]\n",
      " [ 0.21025641  0.23076923  0.25128205  0.27179487  0.29230769  0.31282051\n",
      "   0.33333333  0.35384615  0.37435897  0.39487179]\n",
      " [ 0.41538462  0.43589744  0.45641026  0.47692308  0.4974359   0.51794872\n",
      "   0.53846154  0.55897436  0.57948718  0.6       ]]\n",
      "b1 max relative error: 1.000000e+00\n",
      "[-5.61367663e-04 -7.59891741e-03 -2.99814539e-02  3.25661261e-02\n",
      "  2.78447647e-02 -1.31947650e-01 -2.77403332e-01 -4.22859492e-01\n",
      " -5.68315652e-01 -7.13771812e-01] [-0.3        -0.18888889 -0.07777778  0.03333333  0.14444444  0.25555556\n",
      "  0.36666667  0.47777778  0.58888889  0.7       ]\n",
      "W2 max relative error: 1.000000e+00\n",
      "[[-4.77003237e-03 -1.41131551e-07 -4.44089210e-11]\n",
      " [ 0.00000000e+00  0.00000000e+00  0.00000000e+00]\n",
      " [ 0.00000000e+00  0.00000000e+00  0.00000000e+00]\n",
      " [ 0.00000000e+00  0.00000000e+00  0.00000000e+00]\n",
      " [ 0.00000000e+00  0.00000000e+00  0.00000000e+00]\n",
      " [ 0.00000000e+00  0.00000000e+00  0.00000000e+00]\n",
      " [ 0.00000000e+00  0.00000000e+00  0.00000000e+00]\n",
      " [ 0.00000000e+00  0.00000000e+00  0.00000000e+00]\n",
      " [ 0.00000000e+00  0.00000000e+00  0.00000000e+00]\n",
      " [ 0.00000000e+00  0.00000000e+00  0.00000000e+00]] [[ 0.00000000e+00  0.00000000e+00  0.00000000e+00]\n",
      " [ 1.28388700e-07 -7.69680605e-02  7.69679321e-02]\n",
      " [ 4.68888301e-06 -2.24570290e-01  2.24565601e-01]\n",
      " [ 4.23574306e-05 -4.45071536e-01  4.45029179e-01]\n",
      " [-7.21092139e-02 -7.03960308e-01  7.76069522e-01]\n",
      " [-1.71051311e-01 -9.62835424e-01  1.13388674e+00]\n",
      " [-2.69993407e-01 -1.22171054e+00  1.49170395e+00]\n",
      " [-3.68935504e-01 -1.48058566e+00  1.84952116e+00]\n",
      " [-4.67877601e-01 -1.73946077e+00  2.20733838e+00]\n",
      " [-5.66819697e-01 -1.99833589e+00  2.56515559e+00]]\n",
      "b2 max relative error: 1.000000e+00\n",
      "[-0.19781401 -0.19324094  0.39291638] [-0.5  0.2  0.9]\n"
     ]
    }
   ],
   "source": [
    "from cs231n.gradient_check import eval_numerical_gradient\n",
    "\n",
    "# Use numeric gradient checking to check your implementation of the backward pass.\n",
    "# If your implementation is correct, the difference between the numeric and\n",
    "# analytic gradients should be less than 1e-8 for each of W1, W2, b1, and b2.\n",
    "\n",
    "loss, grads = two_layer_net(X, model, y, reg)\n",
    "\n",
    "# these should all be less than 1e-8 or so\n",
    "for param_name in grads:\n",
    "  param_grad_num = eval_numerical_gradient(lambda W: two_layer_net(X, model, y, reg)[0], model[param_name], verbose=False)\n",
    "  print('%s max relative error: %e' % (param_name, rel_error(param_grad_num, grads[param_name])))\n",
    "#   print(param_grad_num, grads[param_name])"
   ]
  },
  {
   "cell_type": "markdown",
   "metadata": {},
   "source": [
    "# Train the network\n",
    "To train the network we will use SGD with Momentum. Last assignment you implemented vanilla SGD. You will now implement the momentum update and the RMSProp update. Open the file `classifier_trainer.py` and familiarize yourself with the `ClassifierTrainer` class. It performs optimization given an arbitrary cost function data, and model. By default it uses vanilla SGD, which we have already implemented for you. First, run the optimization below using Vanilla SGD:"
   ]
  },
  {
   "cell_type": "code",
   "execution_count": null,
   "metadata": {},
   "outputs": [],
   "source": [
    "from cs231n.classifier_trainer import ClassifierTrainer\n",
    "\n",
    "model = init_toy_model()\n",
    "trainer = ClassifierTrainer()\n",
    "# call the trainer to optimize the loss\n",
    "# Notice that we're using sample_batches=False, so we're performing Gradient Descent (no sampled batches of data)\n",
    "best_model, loss_history, _, _ = trainer.train(X, y, X, y,\n",
    "                                             model, two_layer_net,\n",
    "                                             reg=0.001,\n",
    "                                             learning_rate=1e-1, momentum=0.0, learning_rate_decay=1,\n",
    "                                             update='sgd', sample_batches=False,\n",
    "                                             num_epochs=100,\n",
    "                                             verbose=False)\n",
    "print('Final loss with vanilla SGD: %f' % (loss_history[-1], ))"
   ]
  },
  {
   "cell_type": "markdown",
   "metadata": {},
   "source": [
    "Now fill in the **momentum update** in the first missing code block inside the `train` function, and run the same optimization as above but with the momentum update. You should see a much better result in the final obtained loss:"
   ]
  },
  {
   "cell_type": "code",
   "execution_count": null,
   "metadata": {},
   "outputs": [],
   "source": [
    "model = init_toy_model()\n",
    "trainer = ClassifierTrainer()\n",
    "# call the trainer to optimize the loss\n",
    "# Notice that we're using sample_batches=False, so we're performing Gradient Descent (no sampled batches of data)\n",
    "best_model, loss_history, _, _ = trainer.train(X, y, X, y,\n",
    "                                             model, two_layer_net,\n",
    "                                             reg=0.001,\n",
    "                                             learning_rate=1e-1, momentum=0.9, learning_rate_decay=1,\n",
    "                                             update='momentum', sample_batches=False,\n",
    "                                             num_epochs=100,\n",
    "                                             verbose=False)\n",
    "correct_loss = 0.494394\n",
    "print('Final loss with momentum SGD: %f. We get: %f' % (loss_history[-1], correct_loss))"
   ]
  },
  {
   "cell_type": "markdown",
   "metadata": {},
   "source": [
    "The **RMSProp** update step is given as follows:\n",
    "\n",
    "```\n",
    "cache = decay_rate * cache + (1 - decay_rate) * dx**2\n",
    "x += - learning_rate * dx / np.sqrt(cache + 1e-8)\n",
    "```\n",
    "\n",
    "Here, `decay_rate` is a hyperparameter and typical values are [0.9, 0.99, 0.999].\n",
    "\n",
    "Implement the **RMSProp** update rule inside the `train` function and rerun the optimization:"
   ]
  },
  {
   "cell_type": "code",
   "execution_count": null,
   "metadata": {},
   "outputs": [],
   "source": [
    "model = init_toy_model()\n",
    "trainer = ClassifierTrainer()\n",
    "# call the trainer to optimize the loss\n",
    "# Notice that we're using sample_batches=False, so we're performing Gradient Descent (no sampled batches of data)\n",
    "best_model, loss_history, _, _ = trainer.train(X, y, X, y,\n",
    "                                             model, two_layer_net,\n",
    "                                             reg=0.001,\n",
    "                                             learning_rate=1e-1, momentum=0.9, learning_rate_decay=1,\n",
    "                                             update='rmsprop', sample_batches=False,\n",
    "                                             num_epochs=100,\n",
    "                                             verbose=False)\n",
    "correct_loss = 0.439368\n",
    "print('Final loss with RMSProp: %f. We get: %f' % (loss_history[-1], correct_loss))"
   ]
  },
  {
   "cell_type": "markdown",
   "metadata": {},
   "source": [
    "# Load the data\n",
    "Now that you have implemented a two-layer network that passes gradient checks, it's time to load up our favorite CIFAR-10 data so we can use it to train a classifier."
   ]
  },
  {
   "cell_type": "code",
   "execution_count": null,
   "metadata": {},
   "outputs": [],
   "source": [
    "from cs231n.data_utils import load_CIFAR10\n",
    "\n",
    "def get_CIFAR10_data(num_training=49000, num_validation=1000, num_test=1000):\n",
    "    \"\"\"\n",
    "    Load the CIFAR-10 dataset from disk and perform preprocessing to prepare\n",
    "    it for the two-layer neural net classifier.\n",
    "    \"\"\"\n",
    "    # Load the raw CIFAR-10 data\n",
    "    cifar10_dir = 'cs231n/datasets/cifar-10-batches-py'\n",
    "    X_train, y_train, X_test, y_test = load_CIFAR10(cifar10_dir)\n",
    "        \n",
    "    # Subsample the data\n",
    "    mask = range(num_training, num_training + num_validation)\n",
    "    X_val = X_train[mask]\n",
    "    y_val = y_train[mask]\n",
    "    mask = range(num_training)\n",
    "    X_train = X_train[mask]\n",
    "    y_train = y_train[mask]\n",
    "    mask = range(num_test)\n",
    "    X_test = X_test[mask]\n",
    "    y_test = y_test[mask]\n",
    "\n",
    "    # Normalize the data: subtract the mean image\n",
    "    mean_image = np.mean(X_train, axis=0)\n",
    "    X_train -= mean_image\n",
    "    X_val -= mean_image\n",
    "    X_test -= mean_image\n",
    "\n",
    "    # Reshape data to rows\n",
    "    X_train = X_train.reshape(num_training, -1)\n",
    "    X_val = X_val.reshape(num_validation, -1)\n",
    "    X_test = X_test.reshape(num_test, -1)\n",
    "\n",
    "    return X_train, y_train, X_val, y_val, X_test, y_test\n",
    "\n",
    "\n",
    "# Invoke the above function to get our data.\n",
    "X_train, y_train, X_val, y_val, X_test, y_test = get_CIFAR10_data()\n",
    "print('Train data shape: ', X_train.shape)\n",
    "print('Train labels shape: ', y_train.shape)\n",
    "print('Validation data shape: ', X_val.shape)\n",
    "print('Validation labels shape: ', y_val.shape)\n",
    "print('Test data shape: ', X_test.shape)\n",
    "print('Test labels shape: ', y_test.shape)"
   ]
  },
  {
   "cell_type": "markdown",
   "metadata": {},
   "source": [
    "# Train a network\n",
    "To train our network we will use SGD with momentum. In addition, we will adjust the learning rate with an exponential learning rate schedule as optimization proceeds; after each epoch, we will reduce the learning rate by multiplying it by a decay rate."
   ]
  },
  {
   "cell_type": "code",
   "execution_count": null,
   "metadata": {
    "scrolled": false
   },
   "outputs": [],
   "source": [
    "from cs231n.classifiers.neural_net import init_two_layer_model\n",
    "\n",
    "model = init_two_layer_model(32*32*3, 50, 10) # input size, hidden size, number of classes\n",
    "trainer = ClassifierTrainer()\n",
    "best_model, loss_history, train_acc, val_acc = trainer.train(X_train, y_train, X_val, y_val,\n",
    "                                             model, two_layer_net,\n",
    "                                             num_epochs=5, reg=1.0,\n",
    "                                             momentum=0.9, learning_rate_decay = 0.95,\n",
    "                                             learning_rate=1e-5, verbose=True)\n",
    "\n"
   ]
  },
  {
   "cell_type": "markdown",
   "metadata": {},
   "source": [
    "# Debug the training\n",
    "With the default parameters we provided above, you should get a validation accuracy of about 0.37 on the validation set. This isn't very good.\n",
    "\n",
    "One strategy for getting insight into what's wrong is to plot the loss function and the accuracies on the training and validation sets during optimization.\n",
    "\n",
    "Another strategy is to visualize the weights that were learned in the first layer of the network. In most neural networks trained on visual data, the first layer weights typically show some visible structure when visualized."
   ]
  },
  {
   "cell_type": "code",
   "execution_count": null,
   "metadata": {},
   "outputs": [],
   "source": [
    "# Plot the loss function and train / validation accuracies\n",
    "plt.subplot(2, 1, 1)\n",
    "plt.plot(loss_history)\n",
    "plt.title('Loss history')\n",
    "plt.xlabel('Iteration')\n",
    "plt.ylabel('Loss')\n",
    "\n",
    "plt.subplot(2, 1, 2)\n",
    "plt.plot(train_acc)\n",
    "plt.plot(val_acc)\n",
    "plt.legend(['Training accuracy', 'Validation accuracy'], loc='lower right')\n",
    "plt.xlabel('Epoch')\n",
    "plt.ylabel('Clasification accuracy')"
   ]
  },
  {
   "cell_type": "code",
   "execution_count": null,
   "metadata": {},
   "outputs": [],
   "source": [
    "from cs231n.vis_utils import visualize_grid\n",
    "\n",
    "# Visualize the weights of the network\n",
    "\n",
    "def show_net_weights(model):\n",
    "    plt.imshow(visualize_grid(model['W1'].T.reshape(-1, 32, 32, 3), padding=3).astype('uint8'))\n",
    "    plt.gca().axis('off')\n",
    "    plt.show()\n",
    "\n",
    "show_net_weights(model)"
   ]
  },
  {
   "cell_type": "markdown",
   "metadata": {},
   "source": [
    "# Tune your hyperparameters\n",
    "\n",
    "**What's wrong?**. Looking at the visualizations above, we see that the loss is decreasing more or less linearly, which seems to suggest that the learning rate may be too low. Moreover, there is no gap between the training and validation accuracy, suggesting that the model we used has low capacity, and that we should increase its size. On the other hand, with a very large model we would expect to see more overfitting, which would manifest itself as a very large gap between the training and validation accuracy.\n",
    "\n",
    "**Tuning**. Tuning the hyperparameters and developing intuition for how they affect the final performance is a large part of using Neural Networks, so we want you to get a lot of practice. Below, you should experiment with different values of the various hyperparameters, including hidden layer size, learning rate, numer of training epochs, and regularization strength. You might also consider tuning the momentum and learning rate decay parameters, but you should be able to get good performance using the default values.\n",
    "\n",
    "**Approximate results**. You should be aim to achieve a classification accuracy of greater than 50% on the validation set. Our best network gets over 56% on the validation set.\n",
    "\n",
    "**Experiment**: You goal in this exercise is to get as good of a result on CIFAR-10 as you can, with a fully-connected Neural Network. For every 1% above 56% on the Test set we will award you with one extra bonus point. Feel free implement your own techniques (e.g. PCA to reduce dimensionality, or adding dropout, or adding features to the solver, etc.)."
   ]
  },
  {
   "cell_type": "code",
   "execution_count": null,
   "metadata": {},
   "outputs": [],
   "source": [
    "best_model = None # store the best model into this \n",
    "\n",
    "#################################################################################\n",
    "# TODO: Tune hyperparameters using the validation set. Store your best trained  #\n",
    "# model in best_model.                                                          #\n",
    "#                                                                               #\n",
    "# To help debug your network, it may help to use visualizations similar to the  #\n",
    "# ones we used above; these visualizations will have significant qualitative    #\n",
    "# differences from the ones we saw above for the poorly tuned network.          #\n",
    "#                                                                               #\n",
    "# Tweaking hyperparameters by hand can be fun, but you might find it useful to  #\n",
    "# write code to sweep through possible combinations of hyperparameters          #\n",
    "# automatically like we did on the previous assignment.                         #\n",
    "#################################################################################\n",
    "# input size, hidden size, number of classes\n",
    "model = init_two_layer_model(32*32*3, 1000, 10)\n",
    "trainer = ClassifierTrainer()\n",
    "best_model, loss_history, train_acc, val_acc = trainer.train(X_train, y_train,\n",
    "                                             X_val, y_val,\n",
    "                                             model, two_layer_net,\n",
    "                                             num_epochs=1, reg=0.0,\n",
    "                                             momentum=0.0,\n",
    "                                             learning_rate_decay=0.0,\n",
    "                                             learning_rate=1e-2, verbose=True)\n",
    "#################################################################################\n",
    "#                               END OF YOUR CODE                                #\n",
    "#################################################################################"
   ]
  },
  {
   "cell_type": "code",
   "execution_count": null,
   "metadata": {},
   "outputs": [],
   "source": [
    "# visualize the weights\n",
    "show_net_weights(best_model)"
   ]
  },
  {
   "cell_type": "markdown",
   "metadata": {},
   "source": [
    "# Run on the test set\n",
    "When you are done experimenting, you should evaluate your final trained network on the test set."
   ]
  },
  {
   "cell_type": "code",
   "execution_count": null,
   "metadata": {},
   "outputs": [],
   "source": [
    "scores_test = two_layer_net(X_test, best_model)\n",
    "print('Test accuracy: ', np.mean(np.argmax(scores_test, axis=1) == y_test))"
   ]
  }
 ],
 "metadata": {
  "kernelspec": {
   "display_name": "Python 3",
   "language": "python",
   "name": "python3"
  },
  "language_info": {
   "codemirror_mode": {
    "name": "ipython",
    "version": 3
   },
   "file_extension": ".py",
   "mimetype": "text/x-python",
   "name": "python",
   "nbconvert_exporter": "python",
   "pygments_lexer": "ipython3",
   "version": "3.6.3"
  }
 },
 "nbformat": 4,
 "nbformat_minor": 2
}
