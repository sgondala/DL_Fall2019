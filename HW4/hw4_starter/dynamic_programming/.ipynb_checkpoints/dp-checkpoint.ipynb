{
 "cells": [
  {
   "cell_type": "markdown",
   "metadata": {},
   "source": [
    "# Dynamic Programming (20 points + 10 bonus points)\n",
    "\n",
    "In this assignment, we will implement a few dynamic programming algorithms, namely, policy iteration and value iteration and run them on a simple MDP - the Frozen Lake environment.\n",
    "\n",
    "The sub-routines for these algorithms are present in `vi_and_pi.py` and must be filled out to test your implementation.\n",
    "\n",
    "The deliverables are located at the end of this notebook and show the point distrbution for each part. \n",
    "\n",
    "**Value iteration is worth 20 points of regular credit and policy iteration is worth 10 points of bonus credit for both sections of this course CS 7643 and CS 4803.**"
   ]
  },
  {
   "cell_type": "code",
   "execution_count": 1,
   "metadata": {},
   "outputs": [],
   "source": [
    "%load_ext autoreload\n",
    "%autoreload 2\n",
    "\n",
    "import numpy as np\n",
    "import gym\n",
    "import time\n",
    "\n",
    "from IPython.display import clear_output\n",
    "\n",
    "from lake_envs import *\n",
    "from vi_and_pi import *\n",
    "\n",
    "np.set_printoptions(precision=3)\n",
    "\n",
    "env_d = gym.make(\"Deterministic-4x4-FrozenLake-v0\")\n",
    "env_s = gym.make(\"Stochastic-4x4-FrozenLake-v0\")"
   ]
  },
  {
   "cell_type": "markdown",
   "metadata": {},
   "source": [
    "### Render Mode\n",
    "\n",
    "The variable `RENDER_ENV` is set `True` by default to allow you to see a rendering of the state of the environment at every time step. However, when you complete this assignment, you must set this to `False` and re-run all blocks of code. This is to prevent excessive amounts of rendered environments from being included in the final PDF.\n",
    "\n",
    "#### IMPORTANT: SET `RENDER_ENV` TO FALSE BEFORE SUBMISSION!"
   ]
  },
  {
   "cell_type": "code",
   "execution_count": 5,
   "metadata": {
    "scrolled": true
   },
   "outputs": [],
   "source": [
    "RENDER_ENV = False"
   ]
  },
  {
   "cell_type": "markdown",
   "metadata": {},
   "source": [
    "## Part 1: Value Iteration\n",
    "\n",
    "For the first part, you will implement the familiar value iteration update from class.\n",
    "\n",
    "In `vi_and_pi.pi` and complete the `value_iteration` function."
   ]
  },
  {
   "cell_type": "code",
   "execution_count": 16,
   "metadata": {},
   "outputs": [
    {
     "data": {
      "text/plain": [
       "{0: {0: [(1.0, 0, 0.0, False)],\n",
       "  1: [(1.0, 4, 0.0, False)],\n",
       "  2: [(1.0, 1, 0.0, False)],\n",
       "  3: [(1.0, 0, 0.0, False)]},\n",
       " 1: {0: [(1.0, 0, 0.0, False)],\n",
       "  1: [(1.0, 5, 0.0, True)],\n",
       "  2: [(1.0, 2, 0.0, False)],\n",
       "  3: [(1.0, 1, 0.0, False)]},\n",
       " 2: {0: [(1.0, 1, 0.0, False)],\n",
       "  1: [(1.0, 6, 0.0, False)],\n",
       "  2: [(1.0, 3, 0.0, False)],\n",
       "  3: [(1.0, 2, 0.0, False)]},\n",
       " 3: {0: [(1.0, 2, 0.0, False)],\n",
       "  1: [(1.0, 7, 0.0, True)],\n",
       "  2: [(1.0, 3, 0.0, False)],\n",
       "  3: [(1.0, 3, 0.0, False)]},\n",
       " 4: {0: [(1.0, 4, 0.0, False)],\n",
       "  1: [(1.0, 8, 0.0, False)],\n",
       "  2: [(1.0, 5, 0.0, True)],\n",
       "  3: [(1.0, 0, 0.0, False)]},\n",
       " 5: {0: [(1.0, 5, 0, True)],\n",
       "  1: [(1.0, 5, 0, True)],\n",
       "  2: [(1.0, 5, 0, True)],\n",
       "  3: [(1.0, 5, 0, True)]},\n",
       " 6: {0: [(1.0, 5, 0.0, True)],\n",
       "  1: [(1.0, 10, 0.0, False)],\n",
       "  2: [(1.0, 7, 0.0, True)],\n",
       "  3: [(1.0, 2, 0.0, False)]},\n",
       " 7: {0: [(1.0, 7, 0, True)],\n",
       "  1: [(1.0, 7, 0, True)],\n",
       "  2: [(1.0, 7, 0, True)],\n",
       "  3: [(1.0, 7, 0, True)]},\n",
       " 8: {0: [(1.0, 8, 0.0, False)],\n",
       "  1: [(1.0, 12, 0.0, True)],\n",
       "  2: [(1.0, 9, 0.0, False)],\n",
       "  3: [(1.0, 4, 0.0, False)]},\n",
       " 9: {0: [(1.0, 8, 0.0, False)],\n",
       "  1: [(1.0, 13, 0.0, False)],\n",
       "  2: [(1.0, 10, 0.0, False)],\n",
       "  3: [(1.0, 5, 0.0, True)]},\n",
       " 10: {0: [(1.0, 9, 0.0, False)],\n",
       "  1: [(1.0, 14, 0.0, False)],\n",
       "  2: [(1.0, 11, 0.0, True)],\n",
       "  3: [(1.0, 6, 0.0, False)]},\n",
       " 11: {0: [(1.0, 11, 0, True)],\n",
       "  1: [(1.0, 11, 0, True)],\n",
       "  2: [(1.0, 11, 0, True)],\n",
       "  3: [(1.0, 11, 0, True)]},\n",
       " 12: {0: [(1.0, 12, 0, True)],\n",
       "  1: [(1.0, 12, 0, True)],\n",
       "  2: [(1.0, 12, 0, True)],\n",
       "  3: [(1.0, 12, 0, True)]},\n",
       " 13: {0: [(1.0, 12, 0.0, True)],\n",
       "  1: [(1.0, 13, 0.0, False)],\n",
       "  2: [(1.0, 14, 0.0, False)],\n",
       "  3: [(1.0, 9, 0.0, False)]},\n",
       " 14: {0: [(1.0, 13, 0.0, False)],\n",
       "  1: [(1.0, 14, 0.0, False)],\n",
       "  2: [(1.0, 15, 1.0, True)],\n",
       "  3: [(1.0, 10, 0.0, False)]},\n",
       " 15: {0: [(1.0, 15, 0, True)],\n",
       "  1: [(1.0, 15, 0, True)],\n",
       "  2: [(1.0, 15, 0, True)],\n",
       "  3: [(1.0, 15, 0, True)]}}"
      ]
     },
     "execution_count": 16,
     "metadata": {},
     "output_type": "execute_result"
    }
   ],
   "source": [
    "###################################################\n",
    "# Use this space for debugging                    #\n",
    "# Make sure to delete this code before submission #\n",
    "###################################################\n",
    "env_d.P\n",
    "# env_d.nS\n",
    "###################################################"
   ]
  },
  {
   "cell_type": "markdown",
   "metadata": {},
   "source": [
    "Run the cell below to train value iteration and render a single episode of following the policy obtained at the end of value iteration. \n",
    "\n",
    "You should expect to get an Episode reward of `1.0`."
   ]
  },
  {
   "cell_type": "code",
   "execution_count": 21,
   "metadata": {
    "scrolled": true
   },
   "outputs": [
    {
     "name": "stdout",
     "output_type": "stream",
     "text": [
      "\n",
      "-------------------------\n",
      "Beginning Value Iteration\n",
      "-------------------------\n",
      "Episode reward: 1.000000\n"
     ]
    }
   ],
   "source": [
    "print(\"\\n\" + \"-\"*25 + \"\\nBeginning Value Iteration\\n\" + \"-\"*25)\n",
    "\n",
    "V_vi, p_vi = value_iteration(env_d.P, env_d.nS, env_d.nA, gamma=0.9, tol=1e-3)\n",
    "render_single(env_d, p_vi, 100, show_rendering=RENDER_ENV)"
   ]
  },
  {
   "cell_type": "markdown",
   "metadata": {},
   "source": [
    "## [BONUS] Part 2: Policy Iteration\n",
    "\n",
    "This is a bonus question in which you will implement policy iteration. If you do not wish to attempt this bonus quesiton, skip to the next part.\n",
    "\n",
    "In class, we studied the value iteration update:\n",
    "\n",
    "\n",
    "$$V_{t+1}(s) \\leftarrow \\max\\limits_a \\sum\\limits_{s'} p(s'|s, a)\\left[r(s, a) + \\gamma V_t(s')\\right]$$\n",
    "\n",
    "This is used to compute the value function $V^*$ corresponding to the optimal policy $\\pi^*$. We can alternatively compute the value function $V^\\pi$ corresponding to an arbitrary policy $\\pi$, with a similar update loop:\n",
    "\n",
    "$$V^\\pi_{t+1}(s) \\leftarrow \\sum_a \\pi(a|s) \\sum\\limits_{s'} p(s'|s, a)\\left[r(s, a) + \\gamma V^\\pi_t(s')\\right]$$\n",
    "\n",
    "On convergence, this will give us $V^\\pi$, which is the first step of a policy iteration update.\n",
    "\n",
    "The second step involves policy refinement, which will update the policy to take actions greedily with respect to $V^\\pi$:\n",
    "\n",
    "$$ \\pi_{new} \\leftarrow \\textrm{arg}\\max_a \\left[ r(s, a) + \\gamma \\sum_{s'} p(s'|s,a) V^\\pi(s') \\right] $$\n",
    "\n",
    "\n",
    "A single update of policy iteration involves the two above steps: (1) policy evaluation (which itself is an inner loop which will converge to $V^\\pi$ and (2) policy refinement. In the first part of assignment, you will implement the functions for policy evaluation, policy improvement (refinement) and policy iteration.\n",
    "\n",
    "In `vi_and_pi.pi` and complete the `policy_evaluation`, `policy_improvement` and `policy_iteration` functions. Run the blocks below to test your algorithm."
   ]
  },
  {
   "cell_type": "code",
   "execution_count": null,
   "metadata": {},
   "outputs": [],
   "source": [
    "###################################################\n",
    "# Use this space for debugging                    #\n",
    "# Make sure to delete this code before submission #\n",
    "###################################################\n",
    "pass\n",
    "###################################################"
   ]
  },
  {
   "cell_type": "code",
   "execution_count": null,
   "metadata": {
    "scrolled": false
   },
   "outputs": [],
   "source": [
    "print(\"\\n\" + \"-\"*25 + \"\\nBeginning Policy Iteration\\n\" + \"-\"*25)\n",
    "\n",
    "V_pi, p_pi = policy_iteration(env_d.P, env_d.nS, env_d.nA, gamma=0.9, tol=1e-3)\n",
    "render_single(env_d, p_pi, 100, show_rendering=RENDER_ENV)"
   ]
  },
  {
   "cell_type": "markdown",
   "metadata": {},
   "source": [
    "## Part 3: VI on Stochastic Frozen Lake\n",
    "\n",
    "Now we will apply our implementation on an MDP where transitions to next states are stochastic. Modify your implementation of value iteration as needed so that policy iteration and value iteration work for stochastic transitions."
   ]
  },
  {
   "cell_type": "code",
   "execution_count": 22,
   "metadata": {},
   "outputs": [],
   "source": [
    "###################################################\n",
    "# Use this space for debugging                    #\n",
    "# Make sure to delete this code before submission #\n",
    "###################################################\n",
    "pass\n",
    "###################################################"
   ]
  },
  {
   "cell_type": "code",
   "execution_count": 27,
   "metadata": {
    "scrolled": true
   },
   "outputs": [
    {
     "name": "stdout",
     "output_type": "stream",
     "text": [
      "\n",
      "-------------------------\n",
      "Beginning Value Iteration\n",
      "-------------------------\n",
      "0.3333333333333333\n",
      "0.09999999999999999\n",
      "0.06\n",
      "0.053999999999999965\n",
      "0.03509999999999999\n",
      "0.02916000000000002\n",
      "0.020655000000000034\n",
      "0.016694099999999934\n",
      "0.012662729999999983\n",
      "0.009985841999999967\n",
      "0.00806215679999997\n",
      "0.006474132359999982\n",
      "0.005474373741000002\n",
      "0.004692570885899985\n",
      "0.003987226447470002\n",
      "0.003419868044664001\n",
      "0.003039767673424204\n",
      "0.0027137779060249848\n",
      "0.0024358981204375407\n",
      "0.0021754055334664846\n",
      "0.0019346887716177041\n",
      "0.0017149515442327068\n",
      "0.0015161000524435836\n",
      "0.0013373883587007307\n",
      "0.0011776310309248375\n",
      "0.0010354291500627097\n",
      "0.0009092871593726903\n",
      "The agent didn't reach a terminal state in 100 steps.\n"
     ]
    }
   ],
   "source": [
    "print(\"\\n\" + \"-\"*25 + \"\\nBeginning Value Iteration\\n\" + \"-\"*25)\n",
    "\n",
    "V_vi, p_vi = value_iteration(env_s.P, env_s.nS, env_s.nA, gamma=0.9, tol=1e-3)\n",
    "render_single(env_s, p_vi, 100, show_rendering=RENDER_ENV)"
   ]
  },
  {
   "cell_type": "markdown",
   "metadata": {},
   "source": [
    "## [BONUS] Part 4: PI on Stochastic Frozen Lake\n",
    "\n",
    "This is a bonus question to run policy iteration on stochastic frozen lake.\n",
    "\n",
    "Now we will apply our implementation on an MDP where transitions to next states are stochastic. Modify your implementation of value iteration as needed so that policy iteration and value iteration work for stochastic transitions."
   ]
  },
  {
   "cell_type": "code",
   "execution_count": null,
   "metadata": {},
   "outputs": [],
   "source": [
    "###################################################\n",
    "# Use this space for debugging                    #\n",
    "# Make sure to delete this code before submission #\n",
    "###################################################\n",
    "pass\n",
    "###################################################"
   ]
  },
  {
   "cell_type": "code",
   "execution_count": null,
   "metadata": {
    "scrolled": true
   },
   "outputs": [],
   "source": [
    "print(\"\\n\" + \"-\"*25 + \"\\nBeginning Policy Iteration\\n\" + \"-\"*25)\n",
    "\n",
    "V_pi, p_pi = policy_iteration(env_s.P, env_s.nS, env_s.nA, gamma=0.9, tol=1e-3)\n",
    "render_single(env_s, p_pi, 100, show_rendering=RENDER_ENV)"
   ]
  },
  {
   "cell_type": "markdown",
   "metadata": {},
   "source": [
    "## Evaluate All Policies\n",
    "\n",
    "Now, we will first test the value iteration implementation on two kinds of environments - the dererministic FrozenLake and the stochastic FrozenLake. We will also run the same for policy iteration"
   ]
  },
  {
   "cell_type": "markdown",
   "metadata": {},
   "source": [
    "### Deliverable 1 (10 points)\n",
    "\n",
    "Run value iteration on deterministic FrozenLake. You should get a reward of 1.0 for full credit."
   ]
  },
  {
   "cell_type": "code",
   "execution_count": 29,
   "metadata": {
    "scrolled": true
   },
   "outputs": [
    {
     "name": "stdout",
     "output_type": "stream",
     "text": [
      "\n",
      "Value Iteration on Deterministic FrozenLake:\n",
      "> Average reward over 2 episodes:\t\t\t 1.0\n",
      "> Percentage of episodes goal reached:\t\t\t 100%\n"
     ]
    }
   ],
   "source": [
    "print(\"\\nValue Iteration on Deterministic FrozenLake:\")\n",
    "V_vi, p_vi = value_iteration(env_d.P, env_d.nS, env_d.nA, gamma=0.9, tol=1e-3)\n",
    "evaluate(env_d, p_vi, max_steps=100, max_episodes=2)"
   ]
  },
  {
   "cell_type": "markdown",
   "metadata": {},
   "source": [
    "### Deliverable 2 (10 points)\n",
    "\n",
    "Run value iteration on stochastic FrozenLake. Note that this time, running the same policy over multiple episodes will result in different outcomes (final reward) due to stochastic transitions in the environment, and even the optimal policy may not succeed in reaching the goal state 100% of the time.\n",
    "\n",
    "You should get a reward of 0.7 or higher over 1000 episodes for full credit."
   ]
  },
  {
   "cell_type": "code",
   "execution_count": 31,
   "metadata": {},
   "outputs": [
    {
     "name": "stdout",
     "output_type": "stream",
     "text": [
      "\n",
      "Value Iteration on Stochastic FrozenLake:\n",
      "> Average reward over 1000 episodes:\t\t\t 0.742\n",
      "> Percentage of episodes goal reached:\t\t\t 91%\n"
     ]
    }
   ],
   "source": [
    "print(\"\\nValue Iteration on Stochastic FrozenLake:\")\n",
    "V_vi, p_vi = value_iteration(env_s.P, env_s.nS, env_s.nA, gamma=0.9, tol=1e-3)\n",
    "evaluate(env_s, p_vi, max_steps=100, max_episodes=1000)"
   ]
  },
  {
   "cell_type": "markdown",
   "metadata": {},
   "source": [
    "### Deliverable 3 (5 bonus points)\n",
    "\n",
    "Run policy iteration on deterministic FrozenLake. You should get a reward of 1.0 for full credit."
   ]
  },
  {
   "cell_type": "code",
   "execution_count": null,
   "metadata": {},
   "outputs": [],
   "source": [
    "print(\"Policy Iteration on Deterministic FrozenLake:\")\n",
    "V_pi, p_pi = policy_iteration(env_d.P, env_d.nS, env_d.nA, gamma=0.9, tol=1e-3)\n",
    "evaluate(env_d, p_pi, max_steps=100, max_episodes=2)"
   ]
  },
  {
   "cell_type": "markdown",
   "metadata": {},
   "source": [
    "### Deliverable 4 (5 bonus points)\n",
    "\n",
    "Run policy iteration on stochastic FrozenLake.\n",
    "\n",
    "You should get a reward of 0.7 or higher over 1000 episodes for full credit."
   ]
  },
  {
   "cell_type": "code",
   "execution_count": null,
   "metadata": {},
   "outputs": [],
   "source": [
    "print(\"Policy Iteration on Stochastic FrozenLake:\")\n",
    "V_pi, p_pi = policy_iteration(env_s.P, env_s.nS, env_s.nA, gamma=0.9, tol=1e-3)\n",
    "evaluate(env_s, p_pi, max_steps=100, max_episodes=1000)"
   ]
  },
  {
   "cell_type": "markdown",
   "metadata": {},
   "source": [
    "## Submission Reminder\n",
    "\n",
    "#### PLEASE RE-RUN THE NOTEBOOK WITH `RENDER_ENV` SET TO FALSE BEFORE SUBMISSION!"
   ]
  }
 ],
 "metadata": {
  "kernelspec": {
   "display_name": "Python 3",
   "language": "python",
   "name": "python3"
  },
  "language_info": {
   "codemirror_mode": {
    "name": "ipython",
    "version": 3
   },
   "file_extension": ".py",
   "mimetype": "text/x-python",
   "name": "python",
   "nbconvert_exporter": "python",
   "pygments_lexer": "ipython3",
   "version": "3.7.3"
  }
 },
 "nbformat": 4,
 "nbformat_minor": 2
}
