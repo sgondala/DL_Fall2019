{
 "cells": [
  {
   "cell_type": "code",
   "execution_count": 1,
   "metadata": {},
   "outputs": [],
   "source": [
    "import json"
   ]
  },
  {
   "cell_type": "code",
   "execution_count": 4,
   "metadata": {},
   "outputs": [],
   "source": [
    "f = open('data/train-v2.0.json')"
   ]
  },
  {
   "cell_type": "code",
   "execution_count": 5,
   "metadata": {},
   "outputs": [],
   "source": [
    "data = json.load(f)"
   ]
  },
  {
   "cell_type": "code",
   "execution_count": 8,
   "metadata": {},
   "outputs": [
    {
     "data": {
      "text/plain": [
       "dict_keys(['version', 'data'])"
      ]
     },
     "execution_count": 8,
     "metadata": {},
     "output_type": "execute_result"
    }
   ],
   "source": [
    "data.keys()"
   ]
  },
  {
   "cell_type": "code",
   "execution_count": 16,
   "metadata": {},
   "outputs": [
    {
     "data": {
      "text/plain": [
       "dict_keys(['title', 'paragraphs'])"
      ]
     },
     "execution_count": 16,
     "metadata": {},
     "output_type": "execute_result"
    }
   ],
   "source": [
    "data['data'][0].keys()"
   ]
  },
  {
   "cell_type": "code",
   "execution_count": 35,
   "metadata": {},
   "outputs": [
    {
     "data": {
      "text/plain": [
       "442"
      ]
     },
     "execution_count": 35,
     "metadata": {},
     "output_type": "execute_result"
    }
   ],
   "source": [
    "len([data['data'][i]['title'] for i in range(len(data['data']))])"
   ]
  },
  {
   "cell_type": "code",
   "execution_count": 18,
   "metadata": {},
   "outputs": [
    {
     "data": {
      "text/plain": [
       "66"
      ]
     },
     "execution_count": 18,
     "metadata": {},
     "output_type": "execute_result"
    }
   ],
   "source": [
    "len(data['data'][0]['paragraphs'])"
   ]
  },
  {
   "cell_type": "code",
   "execution_count": 20,
   "metadata": {},
   "outputs": [
    {
     "data": {
      "text/plain": [
       "dict_keys(['qas', 'context'])"
      ]
     },
     "execution_count": 20,
     "metadata": {},
     "output_type": "execute_result"
    }
   ],
   "source": [
    "data['data'][0]['paragraphs'][0].keys()"
   ]
  },
  {
   "cell_type": "code",
   "execution_count": 21,
   "metadata": {},
   "outputs": [
    {
     "data": {
      "text/plain": [
       "'Beyoncé Giselle Knowles-Carter (/biːˈjɒnseɪ/ bee-YON-say) (born September 4, 1981) is an American singer, songwriter, record producer and actress. Born and raised in Houston, Texas, she performed in various singing and dancing competitions as a child, and rose to fame in the late 1990s as lead singer of R&B girl-group Destiny\\'s Child. Managed by her father, Mathew Knowles, the group became one of the world\\'s best-selling girl groups of all time. Their hiatus saw the release of Beyoncé\\'s debut album, Dangerously in Love (2003), which established her as a solo artist worldwide, earned five Grammy Awards and featured the Billboard Hot 100 number-one singles \"Crazy in Love\" and \"Baby Boy\".'"
      ]
     },
     "execution_count": 21,
     "metadata": {},
     "output_type": "execute_result"
    }
   ],
   "source": [
    "data['data'][0]['paragraphs'][0]['context']"
   ]
  },
  {
   "cell_type": "code",
   "execution_count": 23,
   "metadata": {},
   "outputs": [
    {
     "data": {
      "text/plain": [
       "15"
      ]
     },
     "execution_count": 23,
     "metadata": {},
     "output_type": "execute_result"
    }
   ],
   "source": [
    "len(data['data'][0]['paragraphs'][0]['qas'])"
   ]
  },
  {
   "cell_type": "code",
   "execution_count": 31,
   "metadata": {},
   "outputs": [
    {
     "data": {
      "text/plain": [
       "[False,\n",
       " False,\n",
       " False,\n",
       " False,\n",
       " False,\n",
       " False,\n",
       " False,\n",
       " False,\n",
       " False,\n",
       " False,\n",
       " False,\n",
       " False]"
      ]
     },
     "execution_count": 31,
     "metadata": {},
     "output_type": "execute_result"
    }
   ],
   "source": [
    "[data['data'][0]['paragraphs'][1]['qas'][i]['is_impossible'] for i in range(len(data['data'][0]['paragraphs'][1]['qas']))]"
   ]
  },
  {
   "cell_type": "code",
   "execution_count": 33,
   "metadata": {},
   "outputs": [
    {
     "data": {
      "text/plain": [
       "{'question': 'After her second solo album, what other entertainment venture did Beyonce explore?',\n",
       " 'id': '56be86cf3aeaaa14008c9076',\n",
       " 'answers': [{'text': 'acting', 'answer_start': 207}],\n",
       " 'is_impossible': False}"
      ]
     },
     "execution_count": 33,
     "metadata": {},
     "output_type": "execute_result"
    }
   ],
   "source": [
    "data['data'][0]['paragraphs'][1]['qas'][0]"
   ]
  },
  {
   "cell_type": "code",
   "execution_count": 70,
   "metadata": {},
   "outputs": [
    {
     "data": {
      "text/plain": [
       "[{'question': 'When did Beyonce start becoming popular?',\n",
       "  'id': '56be85543aeaaa14008c9063',\n",
       "  'answers': [{'text': 'in the late 1990s', 'answer_start': 269}],\n",
       "  'is_impossible': False},\n",
       " {'question': 'What areas did Beyonce compete in when she was growing up?',\n",
       "  'id': '56be85543aeaaa14008c9065',\n",
       "  'answers': [{'text': 'singing and dancing', 'answer_start': 207}],\n",
       "  'is_impossible': False},\n",
       " {'question': \"When did Beyonce leave Destiny's Child and become a solo singer?\",\n",
       "  'id': '56be85543aeaaa14008c9066',\n",
       "  'answers': [{'text': '2003', 'answer_start': 526}],\n",
       "  'is_impossible': False},\n",
       " {'question': 'In what city and state did Beyonce  grow up? ',\n",
       "  'id': '56bf6b0f3aeaaa14008c9601',\n",
       "  'answers': [{'text': 'Houston, Texas', 'answer_start': 166}],\n",
       "  'is_impossible': False},\n",
       " {'question': 'In which decade did Beyonce become famous?',\n",
       "  'id': '56bf6b0f3aeaaa14008c9602',\n",
       "  'answers': [{'text': 'late 1990s', 'answer_start': 276}],\n",
       "  'is_impossible': False},\n",
       " {'question': 'In what R&B group was she the lead singer?',\n",
       "  'id': '56bf6b0f3aeaaa14008c9603',\n",
       "  'answers': [{'text': \"Destiny's Child\", 'answer_start': 320}],\n",
       "  'is_impossible': False},\n",
       " {'question': 'What album made her a worldwide known artist?',\n",
       "  'id': '56bf6b0f3aeaaa14008c9604',\n",
       "  'answers': [{'text': 'Dangerously in Love', 'answer_start': 505}],\n",
       "  'is_impossible': False},\n",
       " {'question': \"Who managed the Destiny's Child group?\",\n",
       "  'id': '56bf6b0f3aeaaa14008c9605',\n",
       "  'answers': [{'text': 'Mathew Knowles', 'answer_start': 360}],\n",
       "  'is_impossible': False},\n",
       " {'question': 'When did Beyoncé rise to fame?',\n",
       "  'id': '56d43c5f2ccc5a1400d830a9',\n",
       "  'answers': [{'text': 'late 1990s', 'answer_start': 276}],\n",
       "  'is_impossible': False},\n",
       " {'question': \"What role did Beyoncé have in Destiny's Child?\",\n",
       "  'id': '56d43c5f2ccc5a1400d830aa',\n",
       "  'answers': [{'text': 'lead singer', 'answer_start': 290}],\n",
       "  'is_impossible': False},\n",
       " {'question': 'What was the first album Beyoncé released as a solo artist?',\n",
       "  'id': '56d43c5f2ccc5a1400d830ab',\n",
       "  'answers': [{'text': 'Dangerously in Love', 'answer_start': 505}],\n",
       "  'is_impossible': False},\n",
       " {'question': 'When did Beyoncé release Dangerously in Love?',\n",
       "  'id': '56d43c5f2ccc5a1400d830ac',\n",
       "  'answers': [{'text': '2003', 'answer_start': 526}],\n",
       "  'is_impossible': False},\n",
       " {'question': 'How many Grammy awards did Beyoncé win for her first solo album?',\n",
       "  'id': '56d43c5f2ccc5a1400d830ad',\n",
       "  'answers': [{'text': 'five', 'answer_start': 590}],\n",
       "  'is_impossible': False},\n",
       " {'question': \"What was Beyoncé's role in Destiny's Child?\",\n",
       "  'id': '56d43ce42ccc5a1400d830b4',\n",
       "  'answers': [{'text': 'lead singer', 'answer_start': 290}],\n",
       "  'is_impossible': False},\n",
       " {'question': \"What was the name of Beyoncé's first solo album?\",\n",
       "  'id': '56d43ce42ccc5a1400d830b5',\n",
       "  'answers': [{'text': 'Dangerously in Love', 'answer_start': 505}],\n",
       "  'is_impossible': False}]"
      ]
     },
     "execution_count": 70,
     "metadata": {},
     "output_type": "execute_result"
    }
   ],
   "source": [
    "data['data'][0]['paragraphs'][0]['qas']"
   ]
  },
  {
   "cell_type": "code",
   "execution_count": 44,
   "metadata": {},
   "outputs": [
    {
     "data": {
      "text/plain": [
       "'i'"
      ]
     },
     "execution_count": 44,
     "metadata": {},
     "output_type": "execute_result"
    }
   ],
   "source": [
    "data['data'][0]['paragraphs'][0]['context'][269]"
   ]
  },
  {
   "cell_type": "code",
   "execution_count": 47,
   "metadata": {},
   "outputs": [],
   "source": [
    "# data['data'][1]"
   ]
  },
  {
   "cell_type": "code",
   "execution_count": 49,
   "metadata": {},
   "outputs": [],
   "source": [
    "context_lengths = []\n",
    "\n",
    "def get_max_context_length():\n",
    "    for data_point in data['data']:\n",
    "        for paragraph in data_point['paragraphs']:\n",
    "            context_lengths.append(len(paragraph['context'].split(' ')))\n",
    "\n",
    "get_max_context_length()"
   ]
  },
  {
   "cell_type": "code",
   "execution_count": 52,
   "metadata": {},
   "outputs": [],
   "source": [
    "import numpy as np"
   ]
  },
  {
   "cell_type": "code",
   "execution_count": 53,
   "metadata": {},
   "outputs": [],
   "source": [
    "context_lengths = np.array(context_lengths)"
   ]
  },
  {
   "cell_type": "code",
   "execution_count": 55,
   "metadata": {},
   "outputs": [],
   "source": [
    "context_lengths.sort()"
   ]
  },
  {
   "cell_type": "code",
   "execution_count": 60,
   "metadata": {},
   "outputs": [
    {
     "data": {
      "text/plain": [
       "19035"
      ]
     },
     "execution_count": 60,
     "metadata": {},
     "output_type": "execute_result"
    }
   ],
   "source": [
    "len(context_lengths)"
   ]
  },
  {
   "cell_type": "code",
   "execution_count": null,
   "metadata": {},
   "outputs": [],
   "source": []
  },
  {
   "cell_type": "code",
   "execution_count": null,
   "metadata": {},
   "outputs": [],
   "source": []
  },
  {
   "cell_type": "code",
   "execution_count": 183,
   "metadata": {},
   "outputs": [],
   "source": [
    "import csv"
   ]
  },
  {
   "cell_type": "code",
   "execution_count": 236,
   "metadata": {},
   "outputs": [],
   "source": [
    "def flatten_squad_data(json_data):\n",
    "    retval = []\n",
    "    for data_point in json_data:\n",
    "        title = data_point['title'].lower()\n",
    "        for paragraph in data_point['paragraphs']:\n",
    "            context = paragraph['context'].lower()\n",
    "            for qas in paragraph['qas']:\n",
    "                question = qas['question'].lower()\n",
    "                id_here = qas['id'].lower()\n",
    "                is_impossible = qas['is_impossible']\n",
    "                for answer in qas['answers']:\n",
    "                    text = answer['text'].lower()\n",
    "                    answer_start = answer['answer_start']\n",
    "                    start_token = len(context[:answer_start].split())\n",
    "                    end_token = len(context[:answer_start + len(text)].split())\n",
    "                    retval.append([title, context, question, id_here, is_impossible, text, start_token, end_token])\n",
    "    return retval"
   ]
  },
  {
   "cell_type": "code",
   "execution_count": 238,
   "metadata": {},
   "outputs": [],
   "source": [
    "f = open('data/dev-v2.0.json')\n",
    "data = json.load(f)\n",
    "data = flatten_squad_data(data['data'])"
   ]
  },
  {
   "cell_type": "code",
   "execution_count": 244,
   "metadata": {},
   "outputs": [
    {
     "data": {
      "text/plain": [
       "{'title': 'normans',\n",
       " 'context': 'the normans (norman: nourmands; french: normands; latin: normanni) were the people who in the 10th and 11th centuries gave their name to normandy, a region in france. they were descended from norse (\"norman\" comes from \"norseman\") raiders and pirates from denmark, iceland and norway who, under their leader rollo, agreed to swear fealty to king charles iii of west francia. through generations of assimilation and mixing with the native frankish and roman-gaulish populations, their descendants would gradually merge with the carolingian-based cultures of west francia. the distinct cultural and ethnic identity of the normans emerged initially in the first half of the 10th century, and it continued to evolve over the succeeding centuries.',\n",
       " 'question': 'in what country is normandy located?',\n",
       " 'id_here': '56ddde6b9a695914005b9628',\n",
       " 'is_impossible': False,\n",
       " 'text': 'france',\n",
       " 'start_token': 26,\n",
       " 'end_token': 27}"
      ]
     },
     "execution_count": 244,
     "metadata": {},
     "output_type": "execute_result"
    }
   ],
   "source": [
    "field_list = ['title', 'context', 'question', 'id_here', 'is_impossible', 'text', 'start_token', 'end_token']\n",
    "dict(zip(field_list, data[0]))"
   ]
  },
  {
   "cell_type": "code",
   "execution_count": 212,
   "metadata": {},
   "outputs": [
    {
     "data": {
      "text/plain": [
       "40"
      ]
     },
     "execution_count": 212,
     "metadata": {},
     "output_type": "execute_result"
    }
   ],
   "source": [
    "len(context[:answer_start].split())"
   ]
  },
  {
   "cell_type": "code",
   "execution_count": 213,
   "metadata": {},
   "outputs": [
    {
     "data": {
      "text/plain": [
       "'Hola'"
      ]
     },
     "execution_count": 213,
     "metadata": {},
     "output_type": "execute_result"
    }
   ],
   "source": [
    "a = \"Hi Hello Hola\"\n",
    "len(a[:9].split())\n",
    "a.split()[2]"
   ]
  },
  {
   "cell_type": "code",
   "execution_count": 214,
   "metadata": {},
   "outputs": [],
   "source": []
  },
  {
   "cell_type": "code",
   "execution_count": 223,
   "metadata": {},
   "outputs": [],
   "source": [
    "s = \"hello a.,\""
   ]
  },
  {
   "cell_type": "code",
   "execution_count": 226,
   "metadata": {},
   "outputs": [
    {
     "data": {
      "text/plain": [
       "'hello a'"
      ]
     },
     "execution_count": 226,
     "metadata": {},
     "output_type": "execute_result"
    }
   ],
   "source": [
    "import string\n",
    "s.strip(string.punctuation)"
   ]
  },
  {
   "cell_type": "code",
   "execution_count": 253,
   "metadata": {},
   "outputs": [],
   "source": [
    "a = torch.Tensor([[0,0,0,0,0], [0,0,0,0,0]])\n",
    "end_tokens = torch.Tensor([1,2]).long()"
   ]
  },
  {
   "cell_type": "code",
   "execution_count": 254,
   "metadata": {},
   "outputs": [],
   "source": [
    "import torch.nn as nn"
   ]
  },
  {
   "cell_type": "code",
   "execution_count": 255,
   "metadata": {},
   "outputs": [
    {
     "data": {
      "text/plain": [
       "tensor(1.6094)"
      ]
     },
     "execution_count": 255,
     "metadata": {},
     "output_type": "execute_result"
    }
   ],
   "source": [
    "loss = nn.CrossEntropyLoss()\n",
    "loss(a,end_tokens)"
   ]
  },
  {
   "cell_type": "code",
   "execution_count": 259,
   "metadata": {},
   "outputs": [
    {
     "data": {
      "text/plain": [
       "tensor([[1., 1., 1., 1., 2., 2., 2., 2.],\n",
       "        [1., 1., 1., 1., 2., 2., 2., 2.]])"
      ]
     },
     "execution_count": 259,
     "metadata": {},
     "output_type": "execute_result"
    }
   ],
   "source": [
    "a = torch.Tensor([[1,1,1,1], [1,1,1,1]])\n",
    "b = torch.Tensor([[2,2,2,2], [2,2,2,2]])\n",
    "torch.cat((a,b), 1)"
   ]
  },
  {
   "cell_type": "code",
   "execution_count": 267,
   "metadata": {},
   "outputs": [],
   "source": [
    "indices = [2,3,4,5,5]\n",
    "token = [1,1,1,10,10]\n",
    "indices = [indices[index] for index in range(len(indices)) if token[index] < 8]"
   ]
  },
  {
   "cell_type": "code",
   "execution_count": 268,
   "metadata": {},
   "outputs": [
    {
     "data": {
      "text/plain": [
       "[2, 3, 4]"
      ]
     },
     "execution_count": 268,
     "metadata": {},
     "output_type": "execute_result"
    }
   ],
   "source": [
    "indices"
   ]
  },
  {
   "cell_type": "code",
   "execution_count": null,
   "metadata": {},
   "outputs": [],
   "source": []
  }
 ],
 "metadata": {
  "kernelspec": {
   "display_name": "Python 3",
   "language": "python",
   "name": "python3"
  },
  "language_info": {
   "codemirror_mode": {
    "name": "ipython",
    "version": 3
   },
   "file_extension": ".py",
   "mimetype": "text/x-python",
   "name": "python",
   "nbconvert_exporter": "python",
   "pygments_lexer": "ipython3",
   "version": "3.7.3"
  }
 },
 "nbformat": 4,
 "nbformat_minor": 2
}
