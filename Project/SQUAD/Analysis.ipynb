{
 "cells": [
  {
   "cell_type": "code",
   "execution_count": 1,
   "metadata": {},
   "outputs": [],
   "source": [
    "import json\n",
    "%"
   ]
  },
  {
   "cell_type": "code",
   "execution_count": 4,
   "metadata": {},
   "outputs": [],
   "source": [
    "f = open('data/train-v2.0.json')"
   ]
  },
  {
   "cell_type": "code",
   "execution_count": 5,
   "metadata": {},
   "outputs": [],
   "source": [
    "\n",
    "data = json.load(f)"
   ]
  },
  {
   "cell_type": "code",
   "execution_count": 8,
   "metadata": {},
   "outputs": [
    {
     "data": {
      "text/plain": [
       "dict_keys(['version', 'data'])"
      ]
     },
     "execution_count": 8,
     "metadata": {},
     "output_type": "execute_result"
    }
   ],
   "source": [
    "data.keys()"
   ]
  },
  {
   "cell_type": "code",
   "execution_count": 16,
   "metadata": {},
   "outputs": [
    {
     "data": {
      "text/plain": [
       "dict_keys(['title', 'paragraphs'])"
      ]
     },
     "execution_count": 16,
     "metadata": {},
     "output_type": "execute_result"
    }
   ],
   "source": [
    "data['data'][0].keys()"
   ]
  },
  {
   "cell_type": "code",
   "execution_count": 35,
   "metadata": {},
   "outputs": [
    {
     "data": {
      "text/plain": [
       "442"
      ]
     },
     "execution_count": 35,
     "metadata": {},
     "output_type": "execute_result"
    }
   ],
   "source": [
    "len([data['data'][i]['title'] for i in range(len(data['data']))])"
   ]
  },
  {
   "cell_type": "code",
   "execution_count": 18,
   "metadata": {},
   "outputs": [
    {
     "data": {
      "text/plain": [
       "66"
      ]
     },
     "execution_count": 18,
     "metadata": {},
     "output_type": "execute_result"
    }
   ],
   "source": [
    "len(data['data'][0]['paragraphs'])"
   ]
  },
  {
   "cell_type": "code",
   "execution_count": 20,
   "metadata": {},
   "outputs": [
    {
     "data": {
      "text/plain": [
       "dict_keys(['qas', 'context'])"
      ]
     },
     "execution_count": 20,
     "metadata": {},
     "output_type": "execute_result"
    }
   ],
   "source": [
    "data['data'][0]['paragraphs'][0].keys()"
   ]
  },
  {
   "cell_type": "code",
   "execution_count": 21,
   "metadata": {},
   "outputs": [
    {
     "data": {
      "text/plain": [
       "'Beyoncé Giselle Knowles-Carter (/biːˈjɒnseɪ/ bee-YON-say) (born September 4, 1981) is an American singer, songwriter, record producer and actress. Born and raised in Houston, Texas, she performed in various singing and dancing competitions as a child, and rose to fame in the late 1990s as lead singer of R&B girl-group Destiny\\'s Child. Managed by her father, Mathew Knowles, the group became one of the world\\'s best-selling girl groups of all time. Their hiatus saw the release of Beyoncé\\'s debut album, Dangerously in Love (2003), which established her as a solo artist worldwide, earned five Grammy Awards and featured the Billboard Hot 100 number-one singles \"Crazy in Love\" and \"Baby Boy\".'"
      ]
     },
     "execution_count": 21,
     "metadata": {},
     "output_type": "execute_result"
    }
   ],
   "source": [
    "data['data'][0]['paragraphs'][0]['context']"
   ]
  },
  {
   "cell_type": "code",
   "execution_count": 23,
   "metadata": {},
   "outputs": [
    {
     "data": {
      "text/plain": [
       "15"
      ]
     },
     "execution_count": 23,
     "metadata": {},
     "output_type": "execute_result"
    }
   ],
   "source": [
    "len(data['data'][0]['paragraphs'][0]['qas'])"
   ]
  },
  {
   "cell_type": "code",
   "execution_count": 31,
   "metadata": {},
   "outputs": [
    {
     "data": {
      "text/plain": [
       "[False,\n",
       " False,\n",
       " False,\n",
       " False,\n",
       " False,\n",
       " False,\n",
       " False,\n",
       " False,\n",
       " False,\n",
       " False,\n",
       " False,\n",
       " False]"
      ]
     },
     "execution_count": 31,
     "metadata": {},
     "output_type": "execute_result"
    }
   ],
   "source": [
    "[data['data'][0]['paragraphs'][1]['qas'][i]['is_impossible'] for i in range(len(data['data'][0]['paragraphs'][1]['qas']))]"
   ]
  },
  {
   "cell_type": "code",
   "execution_count": 33,
   "metadata": {},
   "outputs": [
    {
     "data": {
      "text/plain": [
       "{'question': 'After her second solo album, what other entertainment venture did Beyonce explore?',\n",
       " 'id': '56be86cf3aeaaa14008c9076',\n",
       " 'answers': [{'text': 'acting', 'answer_start': 207}],\n",
       " 'is_impossible': False}"
      ]
     },
     "execution_count": 33,
     "metadata": {},
     "output_type": "execute_result"
    }
   ],
   "source": [
    "data['data'][0]['paragraphs'][1]['qas'][0]"
   ]
  },
  {
   "cell_type": "code",
   "execution_count": 70,
   "metadata": {},
   "outputs": [
    {
     "data": {
      "text/plain": [
       "[{'question': 'When did Beyonce start becoming popular?',\n",
       "  'id': '56be85543aeaaa14008c9063',\n",
       "  'answers': [{'text': 'in the late 1990s', 'answer_start': 269}],\n",
       "  'is_impossible': False},\n",
       " {'question': 'What areas did Beyonce compete in when she was growing up?',\n",
       "  'id': '56be85543aeaaa14008c9065',\n",
       "  'answers': [{'text': 'singing and dancing', 'answer_start': 207}],\n",
       "  'is_impossible': False},\n",
       " {'question': \"When did Beyonce leave Destiny's Child and become a solo singer?\",\n",
       "  'id': '56be85543aeaaa14008c9066',\n",
       "  'answers': [{'text': '2003', 'answer_start': 526}],\n",
       "  'is_impossible': False},\n",
       " {'question': 'In what city and state did Beyonce  grow up? ',\n",
       "  'id': '56bf6b0f3aeaaa14008c9601',\n",
       "  'answers': [{'text': 'Houston, Texas', 'answer_start': 166}],\n",
       "  'is_impossible': False},\n",
       " {'question': 'In which decade did Beyonce become famous?',\n",
       "  'id': '56bf6b0f3aeaaa14008c9602',\n",
       "  'answers': [{'text': 'late 1990s', 'answer_start': 276}],\n",
       "  'is_impossible': False},\n",
       " {'question': 'In what R&B group was she the lead singer?',\n",
       "  'id': '56bf6b0f3aeaaa14008c9603',\n",
       "  'answers': [{'text': \"Destiny's Child\", 'answer_start': 320}],\n",
       "  'is_impossible': False},\n",
       " {'question': 'What album made her a worldwide known artist?',\n",
       "  'id': '56bf6b0f3aeaaa14008c9604',\n",
       "  'answers': [{'text': 'Dangerously in Love', 'answer_start': 505}],\n",
       "  'is_impossible': False},\n",
       " {'question': \"Who managed the Destiny's Child group?\",\n",
       "  'id': '56bf6b0f3aeaaa14008c9605',\n",
       "  'answers': [{'text': 'Mathew Knowles', 'answer_start': 360}],\n",
       "  'is_impossible': False},\n",
       " {'question': 'When did Beyoncé rise to fame?',\n",
       "  'id': '56d43c5f2ccc5a1400d830a9',\n",
       "  'answers': [{'text': 'late 1990s', 'answer_start': 276}],\n",
       "  'is_impossible': False},\n",
       " {'question': \"What role did Beyoncé have in Destiny's Child?\",\n",
       "  'id': '56d43c5f2ccc5a1400d830aa',\n",
       "  'answers': [{'text': 'lead singer', 'answer_start': 290}],\n",
       "  'is_impossible': False},\n",
       " {'question': 'What was the first album Beyoncé released as a solo artist?',\n",
       "  'id': '56d43c5f2ccc5a1400d830ab',\n",
       "  'answers': [{'text': 'Dangerously in Love', 'answer_start': 505}],\n",
       "  'is_impossible': False},\n",
       " {'question': 'When did Beyoncé release Dangerously in Love?',\n",
       "  'id': '56d43c5f2ccc5a1400d830ac',\n",
       "  'answers': [{'text': '2003', 'answer_start': 526}],\n",
       "  'is_impossible': False},\n",
       " {'question': 'How many Grammy awards did Beyoncé win for her first solo album?',\n",
       "  'id': '56d43c5f2ccc5a1400d830ad',\n",
       "  'answers': [{'text': 'five', 'answer_start': 590}],\n",
       "  'is_impossible': False},\n",
       " {'question': \"What was Beyoncé's role in Destiny's Child?\",\n",
       "  'id': '56d43ce42ccc5a1400d830b4',\n",
       "  'answers': [{'text': 'lead singer', 'answer_start': 290}],\n",
       "  'is_impossible': False},\n",
       " {'question': \"What was the name of Beyoncé's first solo album?\",\n",
       "  'id': '56d43ce42ccc5a1400d830b5',\n",
       "  'answers': [{'text': 'Dangerously in Love', 'answer_start': 505}],\n",
       "  'is_impossible': False}]"
      ]
     },
     "execution_count": 70,
     "metadata": {},
     "output_type": "execute_result"
    }
   ],
   "source": [
    "data['data'][0]['paragraphs'][0]['qas']"
   ]
  },
  {
   "cell_type": "code",
   "execution_count": 44,
   "metadata": {},
   "outputs": [
    {
     "data": {
      "text/plain": [
       "'i'"
      ]
     },
     "execution_count": 44,
     "metadata": {},
     "output_type": "execute_result"
    }
   ],
   "source": [
    "data['data'][0]['paragraphs'][0]['context'][269]"
   ]
  },
  {
   "cell_type": "code",
   "execution_count": 47,
   "metadata": {},
   "outputs": [],
   "source": [
    "# data['data'][1]"
   ]
  },
  {
   "cell_type": "code",
   "execution_count": 49,
   "metadata": {},
   "outputs": [],
   "source": [
    "context_lengths = []\n",
    "\n",
    "def get_max_context_length():\n",
    "    for data_point in data['data']:\n",
    "        for paragraph in data_point['paragraphs']:\n",
    "            context_lengths.append(len(paragraph['context'].split(' ')))\n",
    "\n",
    "get_max_context_length()"
   ]
  },
  {
   "cell_type": "code",
   "execution_count": 52,
   "metadata": {},
   "outputs": [],
   "source": [
    "import numpy as np"
   ]
  },
  {
   "cell_type": "code",
   "execution_count": 53,
   "metadata": {},
   "outputs": [],
   "source": [
    "context_lengths = np.array(context_lengths)"
   ]
  },
  {
   "cell_type": "code",
   "execution_count": 55,
   "metadata": {},
   "outputs": [],
   "source": [
    "context_lengths.sort()"
   ]
  },
  {
   "cell_type": "code",
   "execution_count": 60,
   "metadata": {},
   "outputs": [
    {
     "data": {
      "text/plain": [
       "19035"
      ]
     },
     "execution_count": 60,
     "metadata": {},
     "output_type": "execute_result"
    }
   ],
   "source": [
    "len(context_lengths)"
   ]
  },
  {
   "cell_type": "code",
   "execution_count": null,
   "metadata": {},
   "outputs": [],
   "source": []
  },
  {
   "cell_type": "code",
   "execution_count": null,
   "metadata": {},
   "outputs": [],
   "source": []
  },
  {
   "cell_type": "code",
   "execution_count": 183,
   "metadata": {},
   "outputs": [],
   "source": [
    "import csv"
   ]
  },
  {
   "cell_type": "code",
   "execution_count": 236,
   "metadata": {},
   "outputs": [],
   "source": [
    "def flatten_squad_data(json_data):\n",
    "    retval = []\n",
    "    for data_point in json_data:\n",
    "        title = data_point['title'].lower()\n",
    "        for paragraph in data_point['paragraphs']:\n",
    "            context = paragraph['context'].lower()\n",
    "            for qas in paragraph['qas']:\n",
    "                question = qas['question'].lower()\n",
    "                id_here = qas['id'].lower()\n",
    "                is_impossible = qas['is_impossible']\n",
    "                for answer in qas['answers']:\n",
    "                    text = answer['text'].lower()\n",
    "                    answer_start = answer['answer_start']\n",
    "                    start_token = len(context[:answer_start].split())\n",
    "                    end_token = len(context[:answer_start + len(text)].split())\n",
    "                    retval.append([title, context, question, id_here, is_impossible, text, start_token, end_token])\n",
    "    return retval"
   ]
  },
  {
   "cell_type": "code",
   "execution_count": 238,
   "metadata": {},
   "outputs": [],
   "source": [
    "f = open('data/dev-v2.0.json')\n",
    "data = json.load(f)\n",
    "data = flatten_squad_data(data['data'])"
   ]
  },
  {
   "cell_type": "code",
   "execution_count": 244,
   "metadata": {},
   "outputs": [
    {
     "data": {
      "text/plain": [
       "{'title': 'normans',\n",
       " 'context': 'the normans (norman: nourmands; french: normands; latin: normanni) were the people who in the 10th and 11th centuries gave their name to normandy, a region in france. they were descended from norse (\"norman\" comes from \"norseman\") raiders and pirates from denmark, iceland and norway who, under their leader rollo, agreed to swear fealty to king charles iii of west francia. through generations of assimilation and mixing with the native frankish and roman-gaulish populations, their descendants would gradually merge with the carolingian-based cultures of west francia. the distinct cultural and ethnic identity of the normans emerged initially in the first half of the 10th century, and it continued to evolve over the succeeding centuries.',\n",
       " 'question': 'in what country is normandy located?',\n",
       " 'id_here': '56ddde6b9a695914005b9628',\n",
       " 'is_impossible': False,\n",
       " 'text': 'france',\n",
       " 'start_token': 26,\n",
       " 'end_token': 27}"
      ]
     },
     "execution_count": 244,
     "metadata": {},
     "output_type": "execute_result"
    }
   ],
   "source": [
    "field_list = ['title', 'context', 'question', 'id_here', 'is_impossible', 'text', 'start_token', 'end_token']\n",
    "dict(zip(field_list, data[0]))"
   ]
  },
  {
   "cell_type": "code",
   "execution_count": 212,
   "metadata": {},
   "outputs": [
    {
     "data": {
      "text/plain": [
       "40"
      ]
     },
     "execution_count": 212,
     "metadata": {},
     "output_type": "execute_result"
    }
   ],
   "source": [
    "len(context[:answer_start].split())"
   ]
  },
  {
   "cell_type": "code",
   "execution_count": 213,
   "metadata": {},
   "outputs": [
    {
     "data": {
      "text/plain": [
       "'Hola'"
      ]
     },
     "execution_count": 213,
     "metadata": {},
     "output_type": "execute_result"
    }
   ],
   "source": [
    "a = \"Hi Hello Hola\"\n",
    "len(a[:9].split())\n",
    "a.split()[2]"
   ]
  },
  {
   "cell_type": "code",
   "execution_count": 214,
   "metadata": {},
   "outputs": [],
   "source": []
  },
  {
   "cell_type": "code",
   "execution_count": 223,
   "metadata": {},
   "outputs": [],
   "source": [
    "s = \"hello a.,\""
   ]
  },
  {
   "cell_type": "code",
   "execution_count": 226,
   "metadata": {},
   "outputs": [
    {
     "data": {
      "text/plain": [
       "'hello a'"
      ]
     },
     "execution_count": 226,
     "metadata": {},
     "output_type": "execute_result"
    }
   ],
   "source": [
    "import string\n",
    "s.strip(string.punctuation)"
   ]
  },
  {
   "cell_type": "code",
   "execution_count": 253,
   "metadata": {},
   "outputs": [],
   "source": [
    "a = torch.Tensor([[0,0,0,0,0], [0,0,0,0,0]])\n",
    "end_tokens = torch.Tensor([1,2]).long()"
   ]
  },
  {
   "cell_type": "code",
   "execution_count": 254,
   "metadata": {},
   "outputs": [],
   "source": [
    "import torch.nn as nn"
   ]
  },
  {
   "cell_type": "code",
   "execution_count": 255,
   "metadata": {},
   "outputs": [
    {
     "data": {
      "text/plain": [
       "tensor(1.6094)"
      ]
     },
     "execution_count": 255,
     "metadata": {},
     "output_type": "execute_result"
    }
   ],
   "source": [
    "loss = nn.CrossEntropyLoss()\n",
    "loss(a,end_tokens)"
   ]
  },
  {
   "cell_type": "code",
   "execution_count": 259,
   "metadata": {},
   "outputs": [
    {
     "data": {
      "text/plain": [
       "tensor([[1., 1., 1., 1., 2., 2., 2., 2.],\n",
       "        [1., 1., 1., 1., 2., 2., 2., 2.]])"
      ]
     },
     "execution_count": 259,
     "metadata": {},
     "output_type": "execute_result"
    }
   ],
   "source": [
    "a = torch.Tensor([[1,1,1,1], [1,1,1,1]])\n",
    "b = torch.Tensor([[2,2,2,2], [2,2,2,2]])\n",
    "torch.cat((a,b), 1)"
   ]
  },
  {
   "cell_type": "code",
   "execution_count": 267,
   "metadata": {},
   "outputs": [],
   "source": [
    "indices = [2,3,4,5,5]\n",
    "token = [1,1,1,10,10]\n",
    "indices = [indices[index] for index in range(len(indices)) if token[index] < 8]"
   ]
  },
  {
   "cell_type": "code",
   "execution_count": 268,
   "metadata": {},
   "outputs": [
    {
     "data": {
      "text/plain": [
       "[2, 3, 4]"
      ]
     },
     "execution_count": 268,
     "metadata": {},
     "output_type": "execute_result"
    }
   ],
   "source": [
    "indices"
   ]
  },
  {
   "cell_type": "code",
   "execution_count": 1,
   "metadata": {},
   "outputs": [],
   "source": [
    "a = [1,2,3]"
   ]
  },
  {
   "cell_type": "code",
   "execution_count": 2,
   "metadata": {},
   "outputs": [],
   "source": [
    "def get_next_val(a):\n",
    "    for val in a:\n",
    "        yield val"
   ]
  },
  {
   "cell_type": "code",
   "execution_count": 4,
   "metadata": {},
   "outputs": [
    {
     "data": {
      "text/plain": [
       "[1, 2, 3]"
      ]
     },
     "execution_count": 4,
     "metadata": {},
     "output_type": "execute_result"
    }
   ],
   "source": [
    "list(get_next_val(a))"
   ]
  },
  {
   "cell_type": "code",
   "execution_count": 5,
   "metadata": {},
   "outputs": [],
   "source": []
  },
  {
   "cell_type": "code",
   "execution_count": 17,
   "metadata": {},
   "outputs": [],
   "source": []
  },
  {
   "cell_type": "code",
   "execution_count": null,
   "metadata": {},
   "outputs": [],
   "source": []
  },
  {
   "cell_type": "code",
   "execution_count": 19,
   "metadata": {},
   "outputs": [],
   "source": [
    "a = None"
   ]
  },
  {
   "cell_type": "code",
   "execution_count": 21,
   "metadata": {},
   "outputs": [
    {
     "name": "stdout",
     "output_type": "stream",
     "text": [
      "1\n"
     ]
    }
   ],
   "source": [
    "if a is None:\n",
    "    print(1)"
   ]
  },
  {
   "cell_type": "code",
   "execution_count": 29,
   "metadata": {},
   "outputs": [],
   "source": [
    "import torch\n",
    "a = torch.Tensor([[1,2,3], [4,6,3]])"
   ]
  },
  {
   "cell_type": "code",
   "execution_count": 47,
   "metadata": {},
   "outputs": [],
   "source": [
    "max_val = a.max(axis=1).indices"
   ]
  },
  {
   "cell_type": "code",
   "execution_count": 48,
   "metadata": {},
   "outputs": [],
   "source": [
    "val = torch.Tensor([]).long()"
   ]
  },
  {
   "cell_type": "code",
   "execution_count": 50,
   "metadata": {},
   "outputs": [
    {
     "data": {
      "text/plain": [
       "tensor([2, 1])"
      ]
     },
     "execution_count": 50,
     "metadata": {},
     "output_type": "execute_result"
    }
   ],
   "source": [
    "torch.cat((val, max_val), 0)"
   ]
  },
  {
   "cell_type": "code",
   "execution_count": 61,
   "metadata": {},
   "outputs": [],
   "source": [
    "a = []\n",
    "b = [1,2,3]"
   ]
  },
  {
   "cell_type": "code",
   "execution_count": 66,
   "metadata": {},
   "outputs": [],
   "source": [
    "a += b"
   ]
  },
  {
   "cell_type": "code",
   "execution_count": 67,
   "metadata": {},
   "outputs": [
    {
     "data": {
      "text/plain": [
       "[1, 2, 3, 1, 2, 3, 1, 2, 3]"
      ]
     },
     "execution_count": 67,
     "metadata": {},
     "output_type": "execute_result"
    }
   ],
   "source": [
    "a"
   ]
  },
  {
   "cell_type": "code",
   "execution_count": 68,
   "metadata": {},
   "outputs": [],
   "source": [
    "a = [1,2,4]"
   ]
  },
  {
   "cell_type": "code",
   "execution_count": 72,
   "metadata": {},
   "outputs": [],
   "source": [
    "b = torch.Tensor([2]).long()"
   ]
  },
  {
   "cell_type": "code",
   "execution_count": 73,
   "metadata": {},
   "outputs": [
    {
     "data": {
      "text/plain": [
       "4"
      ]
     },
     "execution_count": 73,
     "metadata": {},
     "output_type": "execute_result"
    }
   ],
   "source": [
    "a[b.item()]"
   ]
  },
  {
   "cell_type": "code",
   "execution_count": 77,
   "metadata": {},
   "outputs": [],
   "source": [
    "import json\n",
    "f = open('data/dev_actual.json')"
   ]
  },
  {
   "cell_type": "code",
   "execution_count": 78,
   "metadata": {},
   "outputs": [],
   "source": [
    "data = json.load(f)"
   ]
  },
  {
   "cell_type": "code",
   "execution_count": 107,
   "metadata": {},
   "outputs": [
    {
     "data": {
      "text/plain": [
       "{'57267947f1498d1400e8e0ee',\n",
       " '5a5817e3770dc0001aeeffee',\n",
       " '572812e74b864d19001643ce',\n",
       " '5ad02cde77cf76001a686cc6',\n",
       " '571127a5a58dae1900cd6cc7',\n",
       " '5ad40cdb604f3c001a400093',\n",
       " '5ad277d3d7d075001a429546',\n",
       " '572818f54b864d190016446c',\n",
       " '5725b5a689a1e219009abd29',\n",
       " '5729a3716aef05140015506e',\n",
       " '5ad264d7d7d075001a429177',\n",
       " '5ad02de177cf76001a686d18',\n",
       " '5acfa9b877cf76001a6857a9',\n",
       " '5726472bdd62a815002e8045',\n",
       " '572629c6271a42140099d6a5',\n",
       " '573009a004bcaa1900d77052',\n",
       " '5a1c883cb4fb5d0018714674',\n",
       " '571099b2b654c5140001f9b4',\n",
       " '5a8913713b2508001a72a4a2',\n",
       " '5727e6cbff5b5019007d97ef',\n",
       " '572756fe708984140094dc71',\n",
       " '5733f9fa4776f41900661621',\n",
       " '5ad262aad7d075001a4290c4',\n",
       " '5a2ecb43a83784001a7d248f',\n",
       " '5ad3f4ed604f3c001a3ff964',\n",
       " '5a668d4ef038b7001ab0bfc3',\n",
       " '5a592d703e1742001a15cfea',\n",
       " '572647935951b619008f6ec9',\n",
       " '5733a2a9d058e614000b5f2b',\n",
       " '5a6ce2ec4eec6b001a80a67a',\n",
       " '5a7b079b21c2de001afe9cf8',\n",
       " '5733d7cbd058e614000b63ab',\n",
       " '5705e26d75f01819005e76d6',\n",
       " '5a6ce2ec4eec6b001a80a676',\n",
       " '5706094b52bb8914006897e2',\n",
       " '5a2c382dbfd06b001a5aea72',\n",
       " '56dddf4066d3e219004dad61',\n",
       " '5ad04f7977cf76001a686fb8',\n",
       " '5ad03f8077cf76001a686ee6',\n",
       " '571090abb654c5140001f999',\n",
       " '570d4606b3d812140066d61d',\n",
       " '5acfa8a277cf76001a68576f',\n",
       " '5ad4003b604f3c001a3ffcba',\n",
       " '57306797396df919000960f0',\n",
       " '57112686b654c5140001fbd5',\n",
       " '572fc6f204bcaa1900d76cf6',\n",
       " '5a2c36c4bfd06b001a5aea6a',\n",
       " '57094ca7efce8f15003a7dd7',\n",
       " '5729f8516aef05140015516f',\n",
       " '5729f24baf94a219006aa6de',\n",
       " '5725c071271a42140099d128',\n",
       " '5729e500af94a219006aa6b8',\n",
       " '5a3e5697378766001a002595',\n",
       " '5ad572b15b96ef001a10af0a',\n",
       " '57108d69b654c5140001f983',\n",
       " '571098f8a58dae1900cd6ab3',\n",
       " '5ad261a4d7d075001a429049',\n",
       " '5acf941b77cf76001a68532e',\n",
       " '5ad25b1cd7d075001a428e69',\n",
       " '5a2c31abbfd06b001a5aea35',\n",
       " '5733a6ac4776f41900660f58',\n",
       " '572a12381d0469140077972c',\n",
       " '5ad414dd604f3c001a4002c7',\n",
       " '57264d9edd62a815002e8101',\n",
       " '570d26efb3d812140066d493',\n",
       " '5a0c6698f5590b0018dab3e5',\n",
       " '572970c11d04691400779467',\n",
       " '5726446a89cfff1900a8404f',\n",
       " '5a81f28431013a001a334fb5',\n",
       " '5a89150d3b2508001a72a4aa',\n",
       " '57280e1aff5b5019007d9bef',\n",
       " '5ad26382d7d075001a42911b',\n",
       " '572982e66aef051400154f93',\n",
       " '5726db5add62a815002e92d4',\n",
       " '572a0e4b6aef051400155214',\n",
       " '5ad14337645df0001a2d145a',\n",
       " '5ad4d2105b96ef001a10a1c8',\n",
       " '5ad268a9d7d075001a42927e',\n",
       " '572671a5f1498d1400e8dfe6',\n",
       " '5ad27a80d7d075001a4295fb',\n",
       " '5a8943753b2508001a72a571',\n",
       " '57282dfb4b864d190016466b',\n",
       " '5ad26925d7d075001a4292c6',\n",
       " '5ad03a1a77cf76001a686e6e',\n",
       " '57284618ff5b5019007da0a8',\n",
       " '5a8933ed3b2508001a72a519',\n",
       " '5726ddf6f1498d1400e8ee08',\n",
       " '5730aa52069b53140083221f',\n",
       " '57264865dd62a815002e8063',\n",
       " '57274046dd62a815002e9a13',\n",
       " '5ad0410977cf76001a686f00',\n",
       " '5ad3eb61604f3c001a3ff71f',\n",
       " '5725cbb289a1e219009abed4',\n",
       " '5acfefcc77cf76001a6865ab',\n",
       " '57274971708984140094dbbe',\n",
       " '572758e0f1498d1400e8f6b1',\n",
       " '5ad4ca235b96ef001a10a0b9',\n",
       " '5acfe5ce77cf76001a6863ae',\n",
       " '5705e99452bb891400689688',\n",
       " '5ad11097645df0001a2d0be2',\n",
       " '572882242ca10214002da423',\n",
       " '5a66413dc2b11c001a425ec9',\n",
       " '5ad0309377cf76001a686dc2',\n",
       " '5a668ef8f038b7001ab0bfdd',\n",
       " '5ad26964d7d075001a4292cc',\n",
       " '5ad03e5077cf76001a686ed7',\n",
       " '57264b1ddd62a815002e80a4',\n",
       " '5a38cd93a4b263001a8c192d',\n",
       " '5711541350c2381900b54a6f',\n",
       " '572fad30a23a5019007fc86d',\n",
       " '5ad2a58bd7d075001a429dcd',\n",
       " '5ad4dd325b96ef001a10a4ab',\n",
       " '572647935951b619008f6eca',\n",
       " '5727ec062ca10214002d99ba',\n",
       " '5ad26235d7d075001a429081',\n",
       " '5ad40cac604f3c001a40008b',\n",
       " '5ad3a839604f3c001a3feaf2',\n",
       " '572a05eb3f37b31900478654',\n",
       " '5ad3f350604f3c001a3ff8f1',\n",
       " '5ad108f9645df0001a2d0a76',\n",
       " '572f6ec7a23a5019007fc621',\n",
       " '5acfed5277cf76001a68652e',\n",
       " '57264228ec44d21400f3dcf6',\n",
       " '57274ca8dd62a815002e9aa7',\n",
       " '5ad01a6277cf76001a686a0f',\n",
       " '572824f13acd2414000df592',\n",
       " '56e1aba0e3433e1400423097',\n",
       " '5726bcde708984140094cfc0',\n",
       " '5acfec9277cf76001a686508',\n",
       " '5710f2e2a58dae1900cd6b73',\n",
       " '5a1c60f0b4fb5d0018714611',\n",
       " '572658daf1498d1400e8dcae',\n",
       " '573792ee1c456719005744bd',\n",
       " '5a678908f038b7001ab0c296',\n",
       " '5a667dae846392001a1e1c54',\n",
       " '57335ddbd058e614000b5930',\n",
       " '572a07a86aef0514001551d5',\n",
       " '5a8224ea31013a001a33524e',\n",
       " '5a25eae4c93d92001a40033e',\n",
       " '5729a26d6aef05140015505c',\n",
       " '5ad21646d7d075001a4283c6',\n",
       " '5a638bf768151a001a922367',\n",
       " '5a6690d6f038b7001ab0bff3',\n",
       " '5729e02f1d0469140077963c',\n",
       " '5a60556eeae51e001ab14d15',\n",
       " '5ad4f11d5b96ef001a10a706',\n",
       " '5ad40397604f3c001a3ffd87',\n",
       " '5728d4c03acd2414000dffa1',\n",
       " '5acf8bbd77cf76001a6851b4',\n",
       " '5a665747846392001a1e1aec',\n",
       " '57286c8cff5b5019007da21c',\n",
       " '5728facd4b864d1900165174',\n",
       " '5acff73377cf76001a68668a',\n",
       " '570d4c3bfed7b91900d45e34',\n",
       " '5725fabc89a1e219009ac12c',\n",
       " '573009a004bcaa1900d7704f',\n",
       " '5ad24e50d7d075001a428c3a',\n",
       " '5ad3b1be604f3c001a3feced',\n",
       " '5ad13dbb645df0001a2d136b',\n",
       " '5a665002846392001a1e1ab6',\n",
       " '571cd11add7acb1400e4c16f',\n",
       " '5a6688fcf038b7001ab0bf6f',\n",
       " '5ad5071f5b96ef001a10aa38',\n",
       " '5729fd111d046914007796a6',\n",
       " '5ad3a893604f3c001a3feafd',\n",
       " '5ad505165b96ef001a10a9f4',\n",
       " '5728705c2ca10214002da35b',\n",
       " '57267947f1498d1400e8e0ef',\n",
       " '57280f974b864d1900164371',\n",
       " '57293e221d046914007791d6',\n",
       " '57340549d058e614000b67df',\n",
       " '5a6398fd7f3c80001a150af2',\n",
       " '5ad39d53604f3c001a3fe8d4',\n",
       " '5729fb003f37b31900478629',\n",
       " '572a0ce11d046914007796fe',\n",
       " '5a2eccc9a83784001a7d24a0',\n",
       " '5ad41260604f3c001a400243',\n",
       " '56de16ca4396321400ee25c8',\n",
       " '5ad14a28645df0001a2d159f',\n",
       " '5a7504cb97ca42001a521dc7',\n",
       " '5a8925e53b2508001a72a4d0',\n",
       " '573784fa1c45671900574485',\n",
       " '5737a5931c456719005744e9',\n",
       " '5ad050c877cf76001a686fc4',\n",
       " '5ad02ab477cf76001a686c68',\n",
       " '5a6059ace9e1cc001a33cd35',\n",
       " '5a67a1e3f038b7001ab0c389',\n",
       " '5ad10ece645df0001a2d0b9a',\n",
       " '5729f4e46aef051400155156',\n",
       " '5a835778e60761001a2eb5dd',\n",
       " '5ad3b3dc604f3c001a3fed6b',\n",
       " '5ad4f7895b96ef001a10a7f0',\n",
       " '5a838f74e60761001a2eb7d2',\n",
       " '5a89128d3b2508001a72a497',\n",
       " '572629c6271a42140099d6a3',\n",
       " '571166352419e314009555f2',\n",
       " '57293f8a6aef051400154be0',\n",
       " '5ad401de604f3c001a3ffd2d',\n",
       " '5ad54d625b96ef001a10ac66',\n",
       " '5729f39a6aef05140015514e',\n",
       " '5ad2467ad7d075001a428af7',\n",
       " '5710968aa58dae1900cd6a89',\n",
       " '5a7b0fae21c2de001afe9d2c',\n",
       " '57268bf9dd62a815002e890a',\n",
       " '5729f1283f37b319004785da',\n",
       " '5726ed6cf1498d1400e8f00d',\n",
       " '5acf82c277cf76001a685066',\n",
       " '5737aafd1c456719005744ff',\n",
       " '5a0c958bf5590b0018dab47e',\n",
       " '57268da7f1498d1400e8e39c',\n",
       " '571144d1a58dae1900cd6d6f',\n",
       " '5ad29f7ed7d075001a429c73',\n",
       " '571c3e8cdd7acb1400e4c0a7',\n",
       " '5737804dc3c5551400e51f11',\n",
       " '5711669550c2381900b54ae1',\n",
       " '572754dd708984140094dc3e',\n",
       " '56e16839cd28a01900c6788a',\n",
       " '5a2eba17a83784001a7d2437',\n",
       " '5727490bdd62a815002e9a83',\n",
       " '5733fc6ed058e614000b6712',\n",
       " '5a5915043e1742001a15cf6a',\n",
       " '5729f3883f37b319004785f2',\n",
       " '572fc5a1947a6a140053cc8e',\n",
       " '5a669ca9f038b7001ab0c059',\n",
       " '5a8940ba3b2508001a72a55c',\n",
       " '5727ea45ff5b5019007d9871',\n",
       " '5ad14e86645df0001a2d16e0',\n",
       " '5ad3a27c604f3c001a3fea34',\n",
       " '5ad031cf77cf76001a686deb',\n",
       " '572ffe6fb2c2fd14005686f0',\n",
       " '571c8eb9dd7acb1400e4c0f8',\n",
       " '5a55157f134fea001a0e18ee',\n",
       " '5ad26ba1d7d075001a42935b',\n",
       " '5a7b3f0f21c2de001afe9e04',\n",
       " '5ad26a5fd7d075001a429319',\n",
       " '5acf9e9377cf76001a685585',\n",
       " '57263fd138643c19005ad37d',\n",
       " '5acfa31377cf76001a685683',\n",
       " '5726a14c708984140094cc54',\n",
       " '5ad5364c5b96ef001a10ab94',\n",
       " '572648d1708984140094c160',\n",
       " '573004bf947a6a140053cf57',\n",
       " '5ad25efad7d075001a428f5a',\n",
       " '5a0c7b88f5590b0018dab41e',\n",
       " '5727c94bff5b5019007d954a',\n",
       " '5ad288e1d7d075001a429973',\n",
       " '5a67e5278476ee001a58a761',\n",
       " '5ad40955604f3c001a3fff2c',\n",
       " '5acfe73c77cf76001a6863d5',\n",
       " '5ad40639604f3c001a3ffe4e',\n",
       " '5ad2454cd7d075001a428a92',\n",
       " '572a064a3f37b31900478660',\n",
       " '571112ada58dae1900cd6bd0',\n",
       " '5705fc3a52bb89140068976c',\n",
       " '572fdc34a23a5019007fca95',\n",
       " '5a2ed525a83784001a7d2504',\n",
       " '572658435951b619008f7025',\n",
       " '5733266d4776f41900660713',\n",
       " '5ad40346604f3c001a3ffd76',\n",
       " '5ad4f28c5b96ef001a10a734',\n",
       " '5ad405f0604f3c001a3ffe31',\n",
       " '57264845f1498d1400e8db0e',\n",
       " '5ad3b147604f3c001a3fecd7',\n",
       " '572849b4ff5b5019007da0f2',\n",
       " '5ad54e7c5b96ef001a10ac79',\n",
       " '5a38bd58a4b263001a8c18ed',\n",
       " '5a551328134fea001a0e18d9',\n",
       " '57109180a58dae1900cd6a43',\n",
       " '5ad40762604f3c001a3ffe96',\n",
       " '5ad56aea5b96ef001a10ae48',\n",
       " '5ad3b260604f3c001a3fed07',\n",
       " '5a2ec98aa83784001a7d2479',\n",
       " '572f60f4947a6a140053c8ed',\n",
       " '5a25d529ef59cd001a623cef',\n",
       " '5a3e42de378766001a00252b',\n",
       " '5a638b3668151a001a92235a',\n",
       " '57274beff1498d1400e8f5e6',\n",
       " '5a5507df134fea001a0e181e',\n",
       " '5ad406b6604f3c001a3ffe73',\n",
       " '572f5875947a6a140053c89a',\n",
       " '572a04d51d046914007796cf',\n",
       " '5a8224ea31013a001a33524d',\n",
       " '56e1c4fce3433e1400423151',\n",
       " '57286d7d4b864d19001649e4',\n",
       " '5acfeee177cf76001a686571',\n",
       " '5ad14012645df0001a2d13b1',\n",
       " '5ad041c477cf76001a686f0f',\n",
       " '57284d484b864d1900164902',\n",
       " '572ff673b2c2fd1400568669',\n",
       " '5ad40ac5604f3c001a3fffca',\n",
       " '57273a465951b619008f8700',\n",
       " '5ad269a7d7d075001a4292e1',\n",
       " '56e1aff7cd28a01900c67a68',\n",
       " '5a1c861fb4fb5d0018714655',\n",
       " '57302faa04bcaa1900d77314',\n",
       " '5a3e488b378766001a00253b',\n",
       " '5ad3a3fc604f3c001a3fea79',\n",
       " '5acf9b1177cf76001a685444',\n",
       " '5ad560b85b96ef001a10ad1e',\n",
       " '570d29c2b3d812140066d4be',\n",
       " '5a38c34ea4b263001a8c190e',\n",
       " '5a605b5ee9e1cc001a33cd3e',\n",
       " '5727d6154b864d1900163e34',\n",
       " '5711623e50c2381900b54abb',\n",
       " '572fce13a23a5019007fca13',\n",
       " '5a7b05cd21c2de001afe9cd8',\n",
       " '5a6ce1054eec6b001a80a664',\n",
       " '572fdd03a23a5019007fca9e',\n",
       " '5ad28ea7d7d075001a429a51',\n",
       " '5727e6cbff5b5019007d97f2',\n",
       " '5a6059ace9e1cc001a33cd34',\n",
       " '5a25d23bef59cd001a623ce3',\n",
       " '5725cb33271a42140099d1dc',\n",
       " '573081c2069b531400832135',\n",
       " '5ad3fc41604f3c001a3ffb8f',\n",
       " '56de16ca4396321400ee25c7',\n",
       " '56de179dcffd8e1900b4b5da',\n",
       " '5a58f69e3e1742001a15cee0',\n",
       " '5a2ec431a83784001a7d2451',\n",
       " '5a3e4e57378766001a002567',\n",
       " '5ad537a15b96ef001a10ab9a',\n",
       " '5ad0312677cf76001a686dcc',\n",
       " '5a0c958bf5590b0018dab480',\n",
       " '5ad3b2e8604f3c001a3fed23',\n",
       " '5a1c8d0bb4fb5d00187146be',\n",
       " '5a57f717770dc0001aeeff0a',\n",
       " '57265e97708984140094c3c5',\n",
       " '5ad5719f5b96ef001a10aeec',\n",
       " '5725f46289a1e219009ac0fd',\n",
       " '5a7b359f21c2de001afe9dd1',\n",
       " '5a835b42e60761001a2eb60d',\n",
       " '5ad3ffb3604f3c001a3ffc93',\n",
       " '5a7b11bb21c2de001afe9d46',\n",
       " '572686ac5951b619008f75ab',\n",
       " '572fb42904bcaa1900d76c19',\n",
       " '57283c464b864d19001647cb',\n",
       " '572650325951b619008f6fa9',\n",
       " '5a60556eeae51e001ab14d17',\n",
       " '5ad3a1cd604f3c001a3fe9f8',\n",
       " '571a4d1a4faf5e1900b8a959',\n",
       " '572746addd62a815002e9a5e',\n",
       " '5ad25b9ed7d075001a428e72',\n",
       " '57108198b654c5140001f93b',\n",
       " '5a57f487770dc0001aeeff00',\n",
       " '572a03a06aef0514001551ad',\n",
       " '5728759cff5b5019007da25e',\n",
       " '5728742cff5b5019007da246',\n",
       " '57332562d058e614000b5731',\n",
       " '5ad25d39d7d075001a428ed9',\n",
       " '572fbb04a23a5019007fc8fa',\n",
       " '5ad03cd377cf76001a686ec7',\n",
       " '5ad258f3d7d075001a428de4',\n",
       " '572f6ec7a23a5019007fc623',\n",
       " '570d29c2b3d812140066d4c1',\n",
       " '57114b1a2419e31400955576',\n",
       " '5ad4d5e15b96ef001a10a29a',\n",
       " '5ad2647bd7d075001a429158',\n",
       " '5ad3d689604f3c001a3ff311',\n",
       " '5ad56aea5b96ef001a10ae4a',\n",
       " '5727ec062ca10214002d99b8',\n",
       " '572757bef1498d1400e8f692',\n",
       " '5733fc6ed058e614000b670f',\n",
       " '5ad3e96b604f3c001a3ff689',\n",
       " '5a2ecb43a83784001a7d248d',\n",
       " '5ad3b567604f3c001a3fedb4',\n",
       " '5727490bdd62a815002e9a84',\n",
       " '5ad3cab2604f3c001a3ff0e4',\n",
       " '57106d2fb654c5140001f8f0',\n",
       " '5ad2381dd7d075001a42882c',\n",
       " '5729efab3f37b319004785cf',\n",
       " '571cde695efbb31900334e19',\n",
       " '572821274b864d1900164511',\n",
       " '57286fa83acd2414000df9e9',\n",
       " '57335ddbd058e614000b5932',\n",
       " '57280e1aff5b5019007d9bf0',\n",
       " '5a666b43846392001a1e1c0f',\n",
       " '5a8352ebe60761001a2eb57f',\n",
       " '5ad0309377cf76001a686dbe',\n",
       " '5acfed0b77cf76001a686524',\n",
       " '57060eaf75f01819005e7913',\n",
       " '5725bad5271a42140099d0c0',\n",
       " '5725b33f6a3fe71400b89531',\n",
       " '5ad40158604f3c001a3ffd0d',\n",
       " '5a67a5d9f038b7001ab0c3de',\n",
       " '5726472bdd62a815002e8042',\n",
       " '571112ada58dae1900cd6bcf',\n",
       " '572989846aef051400154fc4',\n",
       " '5ad0225377cf76001a686b3f',\n",
       " '5a839ccfe60761001a2eb823',\n",
       " '572fbb04a23a5019007fc8f8',\n",
       " '5a6ce8ea4eec6b001a80a6b7',\n",
       " '56e1ec83cd28a01900c67c0b',\n",
       " '5ad4e4425b96ef001a10a574',\n",
       " '57283adcff5b5019007d9f97',\n",
       " '5ad3f35c604f3c001a3ff8f5',\n",
       " '5a6ceb164eec6b001a80a6c8',\n",
       " '5729f3831d0469140077967f',\n",
       " '5a665549846392001a1e1ad7',\n",
       " '5725cc38ec44d21400f3d5bd',\n",
       " '5ad240eed7d075001a428944',\n",
       " '5ad040d977cf76001a686ef8',\n",
       " '5ad0461477cf76001a686f7c',\n",
       " '5ad402ae604f3c001a3ffd61',\n",
       " '5a0c7d74f5590b0018dab434',\n",
       " '57266c015951b619008f7237',\n",
       " '5729e2b76aef0514001550cf',\n",
       " '5a7b44ae21c2de001afe9e22',\n",
       " '5a63981168151a001a9223b7',\n",
       " '5725c91e38643c19005accee',\n",
       " '572a1ba46aef051400155291',\n",
       " '5ad54c2f5b96ef001a10ac5c',\n",
       " '5ad3bd30604f3c001a3fef0f',\n",
       " '56e1e9dfe3433e14004231fd',\n",
       " '5730876a396df9190009617c',\n",
       " '5705eee952bb8914006896de',\n",
       " '5a7b34fa21c2de001afe9dc9',\n",
       " '572a03a06aef0514001551aa',\n",
       " '5ad4d55f5b96ef001a10a274',\n",
       " '5729f1fcaf94a219006aa6d6',\n",
       " '5ad500e95b96ef001a10a912',\n",
       " '5a58dd513e1742001a15ce62',\n",
       " '57115c7450c2381900b54a9e',\n",
       " '570d2417fed7b91900d45c41',\n",
       " '57269016708984140094ca41',\n",
       " '5a25bd5cef59cd001a623cc5',\n",
       " '5a25e4a2ef59cd001a623d0b',\n",
       " '5ad2877cd7d075001a429913',\n",
       " '572f567cb2c2fd1400568040',\n",
       " '5a822bc531013a001a335282',\n",
       " '5729fc3d1d0469140077969f',\n",
       " '57113ba6b654c5140001fc1f',\n",
       " '5733f7b9d058e614000b66aa',\n",
       " '5725cbb289a1e219009abed2',\n",
       " '5ad264d7d7d075001a429176',\n",
       " '5727d6154b864d1900163e38',\n",
       " '572a07c11d046914007796d9',\n",
       " '5ad3ab70604f3c001a3feb89',\n",
       " '5729f24baf94a219006aa6e1',\n",
       " '57286bb84b864d19001649c9',\n",
       " '56e1c9bfe3433e1400423192',\n",
       " '5a3e5697378766001a002597',\n",
       " '57092322efce8f15003a7db2',\n",
       " '5a678908f038b7001ab0c29a',\n",
       " '57302ad804bcaa1900d772b1',\n",
       " '5727aa413acd2414000de925',\n",
       " '5a551a65134fea001a0e191e',\n",
       " '5a6683d5f038b7001ab0bf20',\n",
       " '571ccfbadd7acb1400e4c168',\n",
       " '572ff626947a6a140053ce92',\n",
       " '5728e3c33acd2414000e0135',\n",
       " '5a57ca90770dc0001aeefd72',\n",
       " '5ad4b1895b96ef001a109dc8',\n",
       " '5725c41eec44d21400f3d50e',\n",
       " '57281ab63acd2414000df496',\n",
       " '57286ec63acd2414000df9d5',\n",
       " '572fff45947a6a140053cf27',\n",
       " '5ad0394877cf76001a686e57',\n",
       " '5730b7ce069b5314008322c3',\n",
       " '57338007d058e614000b5bda',\n",
       " '5a8923a23b2508001a72a4ca',\n",
       " '57111b95a58dae1900cd6c53',\n",
       " '5729f5a03f37b31900478608',\n",
       " '5725f2c838643c19005aceee',\n",
       " '57268220f1498d1400e8e216',\n",
       " '5729f60caf94a219006aa6ef',\n",
       " '5ad28614d7d075001a4298c2',\n",
       " '5ad3fc41604f3c001a3ffb91',\n",
       " '57300e2604bcaa1900d770bb',\n",
       " '5a1c8a1eb4fb5d0018714697',\n",
       " '5ad3f03c604f3c001a3ff82d',\n",
       " '572871bd3acd2414000dfa05',\n",
       " '5728eff82ca10214002daadd',\n",
       " '5a66938ff038b7001ab0bff9',\n",
       " '5727de862ca10214002d9862',\n",
       " '572a064a3f37b3190047865d',\n",
       " '5725b33f6a3fe71400b8952f',\n",
       " '5737a0acc3c5551400e51f47',\n",
       " '5ad03b2777cf76001a686e9c',\n",
       " '5a55068b134fea001a0e1810',\n",
       " '5ad0403c77cf76001a686eed',\n",
       " '5a75028897ca42001a521db3',\n",
       " '57266e72f1498d1400e8df8e',\n",
       " '57094d489928a8140047150a',\n",
       " '5a58f69e3e1742001a15cede',\n",
       " '5ad14b2e645df0001a2d15ea',\n",
       " '57299a6f6aef051400155019',\n",
       " '5ad4f63b5b96ef001a10a7c6',\n",
       " '5a81f0f031013a001a334fab',\n",
       " '5a38c911a4b263001a8c1920',\n",
       " '5725f8f5ec44d21400f3d7b3',\n",
       " '5ad4bcc45b96ef001a109ea0',\n",
       " '5728e5224b864d1900165032',\n",
       " '5ad25e17d7d075001a428f12',\n",
       " '5acf808877cf76001a685005',\n",
       " '5a8257efe60761001a2eb1d0',\n",
       " '5733faaf4776f4190066162f',\n",
       " '5a835482e60761001a2eb59a',\n",
       " '5a2ed246a83784001a7d24e3',\n",
       " '56e1c7e2cd28a01900c67b75',\n",
       " '57268d2ddd62a815002e8951',\n",
       " '5ad4d1785b96ef001a10a1b5',\n",
       " '5728d6f02ca10214002da90e',\n",
       " '5ad508665b96ef001a10aa68',\n",
       " '5ad5719f5b96ef001a10aeee',\n",
       " '5ad3d2aa604f3c001a3ff265',\n",
       " '5711488ab654c5140001fc3f',\n",
       " '5a7b103b21c2de001afe9d34',\n",
       " '572750e8dd62a815002e9af0',\n",
       " '572667e2f1498d1400e8de93',\n",
       " '5a667457846392001a1e1c31',\n",
       " '5ad043a977cf76001a686f38',\n",
       " '5a25fa34c93d92001a400372',\n",
       " '5730035e04bcaa1900d77003',\n",
       " '572973f76aef051400154f0e',\n",
       " '5ad4bea25b96ef001a109efa',\n",
       " '5ad26105d7d075001a428ff5',\n",
       " '5ad26797d7d075001a429236',\n",
       " '56de15dbcffd8e1900b4b5ca',\n",
       " '5ad40955604f3c001a3fff2f',\n",
       " '5a7b10e021c2de001afe9d3e',\n",
       " '56e1ba41cd28a01900c67ae0',\n",
       " '5ad3f6f5604f3c001a3ffa09',\n",
       " '57108ee6a58dae1900cd6a1c',\n",
       " '5728ec6a4b864d19001650aa',\n",
       " '571077ecb654c5140001f90d',\n",
       " '5ad3b498604f3c001a3fed7b',\n",
       " '57265f605951b619008f70de',\n",
       " '5ad26278d7d075001a4290ac',\n",
       " '5a6cba504eec6b001a80a64c',\n",
       " '5ad157cf645df0001a2d1814',\n",
       " '5acf8bbd77cf76001a6851b5',\n",
       " '570d391fb3d812140066d577',\n",
       " '5733d4c8d058e614000b6356',\n",
       " '573776eec3c5551400e51ee9',\n",
       " '5acfa53677cf76001a6856f7',\n",
       " '5ad2b72fd7d075001a42a023',\n",
       " '573368e54776f41900660a55',\n",
       " '57338007d058e614000b5bde',\n",
       " '5a82237d31013a001a335243',\n",
       " '5a7b054521c2de001afe9cd1',\n",
       " '5733ffa7d058e614000b6751',\n",
       " '57302700a23a5019007fce8b',\n",
       " '5711623e50c2381900b54abd',\n",
       " '5ad2a71ad7d075001a429e02',\n",
       " '5ad3c1ad604f3c001a3fef8e',\n",
       " '5a2c0e0dbfd06b001a5ae9b1',\n",
       " '5ad0440877cf76001a686f40',\n",
       " '572885023acd2414000dfa87',\n",
       " '5ad404d4604f3c001a3ffdea',\n",
       " '5a2ec55da83784001a7d245c',\n",
       " '57108073b654c5140001f925',\n",
       " '5a892b473b2508001a72a4e6',\n",
       " '5a0c7d74f5590b0018dab433',\n",
       " '57302efe04bcaa1900d772f8',\n",
       " '5ad406b6604f3c001a3ffe76',\n",
       " '5a823e6f31013a001a33532e',\n",
       " '57264e66dd62a815002e811d',\n",
       " '5ad4abe25b96ef001a109d65',\n",
       " '56e1a38de3433e140042305c',\n",
       " '5729d44b1d04691400779615',\n",
       " '5728fc9e1d04691400778f15',\n",
       " '57378e311c456719005744b3',\n",
       " '57309ef18ab72b1400f9c603',\n",
       " '5ad3b1be604f3c001a3fece9',\n",
       " '57306797396df919000960f2',\n",
       " '5733266d4776f41900660712',\n",
       " '5729d36b1d04691400779609',\n",
       " '5ad40c2d604f3c001a40004c',\n",
       " '5a7b37ce21c2de001afe9ddd',\n",
       " '5ad4e4cf5b96ef001a10a586',\n",
       " '5ad3ea79604f3c001a3ff6eb',\n",
       " '57293d6d1d046914007791bb',\n",
       " '5ad405f0604f3c001a3ffe2d',\n",
       " '571c8eb9dd7acb1400e4c0f6',\n",
       " '5ad569c05b96ef001a10ae36',\n",
       " '573098f38ab72b1400f9c5d4',\n",
       " '5729727baf94a219006aa437',\n",
       " '57107e6ca58dae1900cd69f2',\n",
       " '5a57f0ea770dc0001aeefee5',\n",
       " '5a82370631013a001a3352e3',\n",
       " '5a7b34fa21c2de001afe9dca',\n",
       " '57268a37f1498d1400e8e340',\n",
       " '57261dab38643c19005ad03b',\n",
       " '5acfab5077cf76001a6857d4',\n",
       " '5a581597770dc0001aeeffe5',\n",
       " '57261f9f271a42140099d4aa',\n",
       " '5a66797c846392001a1e1c4a',\n",
       " '572ffc0f947a6a140053cef1',\n",
       " '572fc043a23a5019007fc95e',\n",
       " '5ad24a2ad7d075001a428bba',\n",
       " '573406d1d058e614000b6802',\n",
       " '572fca7eb2c2fd1400568473',\n",
       " '5a58feb63e1742001a15cf32',\n",
       " '5a2ebaada83784001a7d243d',\n",
       " '57264d58f1498d1400e8db7b',\n",
       " '5acf99b577cf76001a6853f0',\n",
       " '57284618ff5b5019007da0ab',\n",
       " '5725fb8138643c19005acf3f',\n",
       " '5ad279e5d7d075001a4295c5',\n",
       " '5ad4f7235b96ef001a10a7df',\n",
       " '5705e63175f01819005e7721',\n",
       " '56de10b44396321400ee2593',\n",
       " '5ad3ffb3604f3c001a3ffc97',\n",
       " '5733cf61d058e614000b62e9',\n",
       " '57264d9edd62a815002e80ff',\n",
       " '5acfec2077cf76001a6864f5',\n",
       " '572fe92204bcaa1900d76e96',\n",
       " '5ad4df065b96ef001a10a4f8',\n",
       " '5ad4de4c5b96ef001a10a4d8',\n",
       " '57273cca708984140094db33',\n",
       " '5a5808ef770dc0001aeeff6a',\n",
       " '5ad3bbcc604f3c001a3feece',\n",
       " '5725c95f38643c19005accf6',\n",
       " '5ad278add7d075001a429575',\n",
       " '5733a45d4776f41900660f27',\n",
       " '57265a58dd62a815002e8270',\n",
       " '5733314e4776f4190066076c',\n",
       " '5a552252134fea001a0e1964',\n",
       " '5a6394b768151a001a92239a',\n",
       " '5a835b42e60761001a2eb60e',\n",
       " '5a38c34ea4b263001a8c190d',\n",
       " '5a57f0ea770dc0001aeefee6',\n",
       " '5ad54f775b96ef001a10ac8b',\n",
       " '5ad28a54d7d075001a4299a8',\n",
       " '5726deed5951b619008f80c6',\n",
       " '5a638a2468151a001a92234c',\n",
       " '5a551a65134fea001a0e191c',\n",
       " '571c3c47dd7acb1400e4c09d',\n",
       " '57263ea0271a42140099d7c5',\n",
       " '5ad3b567604f3c001a3fedb5',\n",
       " '572ff890a23a5019007fcbcd',\n",
       " '571cac5d5efbb31900334dd2',\n",
       " '5ad2605dd7d075001a428fc7',\n",
       " '572822233acd2414000df558',\n",
       " '572a070c6aef0514001551ca',\n",
       " '5725bcb6271a42140099d0ed',\n",
       " '572754fff1498d1400e8f664',\n",
       " '5ad10ece645df0001a2d0b9b',\n",
       " '57113ba6b654c5140001fc20',\n",
       " '570614ff52bb89140068988b',\n",
       " '5a38b468a4b263001a8c18b4',\n",
       " '5a38c911a4b263001a8c1922',\n",
       " '56e19724cd28a01900c679fa',\n",
       " '572ff35f947a6a140053ce67',\n",
       " '5ad4f11d5b96ef001a10a702',\n",
       " '572ff5fcb2c2fd1400568658',\n",
       " '5ad3b4e8604f3c001a3fed9c',\n",
       " '57378b141c456719005744a1',\n",
       " '5726eb4b5951b619008f826f',\n",
       " '572754fff1498d1400e8f663',\n",
       " '5726577f708984140094c304',\n",
       " '5726f7715951b619008f838e',\n",
       " '5a8397d0e60761001a2eb7ff',\n",
       " '57339902d058e614000b5e70',\n",
       " '572ff12e04bcaa1900d76f00',\n",
       " '5ad28a54d7d075001a4299a7',\n",
       " '5727500f708984140094dbff',\n",
       " '57332b66d058e614000b575b',\n",
       " '5acfea9277cf76001a68648c',\n",
       " '572827fc3acd2414000df5bc',\n",
       " '5730b541396df919000962c4',\n",
       " '5728ec6a4b864d19001650ae',\n",
       " '5ad3a839604f3c001a3feaf4',\n",
       " '5ad4f4405b96ef001a10a780',\n",
       " '57264684708984140094c123',\n",
       " '5ad157cf645df0001a2d1815',\n",
       " '5726241189a1e219009ac2df',\n",
       " '5a25d529ef59cd001a623cec',\n",
       " '5726ba2c708984140094cf5a',\n",
       " '5730a4d02461fd1900a9cf2a',\n",
       " '5ad14a28645df0001a2d15a0',\n",
       " '5725edfe38643c19005acea0',\n",
       " '572881d34b864d1900164a5d',\n",
       " '57274d9bf1498d1400e8f5f9',\n",
       " '5a2ec82fa83784001a7d246f',\n",
       " '5ad25d05d7d075001a428ed1',\n",
       " '5726e08e5951b619008f810f',\n",
       " '57339c16d058e614000b5ec7',\n",
       " '572872822ca10214002da378',\n",
       " '5705e4fe75f01819005e7705',\n",
       " '572941273f37b319004781b0',\n",
       " '5acf9f9877cf76001a6855b8',\n",
       " '5ad3b4e8604f3c001a3fed9d',\n",
       " '572f59b4a23a5019007fc588',\n",
       " '573792ee1c456719005744bb',\n",
       " '572fac17947a6a140053cb56',\n",
       " '5ad50bb95b96ef001a10aab0',\n",
       " '5726e313f1498d1400e8eeb2',\n",
       " '570d4a6bfed7b91900d45e16',\n",
       " '57286b003acd2414000df9c5',\n",
       " '5ad2bcdfd7d075001a42a0ae',\n",
       " '572864dd4b864d190016497a',\n",
       " '56e1f10ee3433e1400423226',\n",
       " '5ad26a5fd7d075001a42931b',\n",
       " '5a6792f1f038b7001ab0c2eb',\n",
       " '5ad26c87d7d075001a429398',\n",
       " '57265642f1498d1400e8dc6b',\n",
       " '57261dab38643c19005ad03a',\n",
       " '5ad4eb355b96ef001a10a64f',\n",
       " '571ccc00dd7acb1400e4c15b',\n",
       " '5729de24af94a219006aa68c',\n",
       " '572a1dbb3f37b319004786f6',\n",
       " '5ad260dbd7d075001a428fd9',\n",
       " '5a581adb770dc0001aeefff9',\n",
       " '57264e455951b619008f6f67',\n",
       " '570d32e4fed7b91900d45d02',\n",
       " '5a5812f9770dc0001aeeffd4',\n",
       " '5728dafe3acd2414000e0061',\n",
       " '5a3e4c01378766001a00255c',\n",
       " '5ad280d4d7d075001a4297d9',\n",
       " '5725ca4389a1e219009abeb5',\n",
       " '5a63787868151a001a9222fe',\n",
       " '57108198b654c5140001f939',\n",
       " '5ad3bbcc604f3c001a3feed0',\n",
       " '570d4030fed7b91900d45da0',\n",
       " '571090abb654c5140001f998',\n",
       " '5a3e3752378766001a0024f8',\n",
       " '56e1c9bfe3433e1400423193',\n",
       " '5726e5c95951b619008f81ce',\n",
       " '573735e8c3c5551400e51e72',\n",
       " '5729ffda1d046914007796b0',\n",
       " '5a0c99fcf5590b0018dab4a6',\n",
       " '5a8221dc31013a001a335230',\n",
       " '5ad4f4d95b96ef001a10a796',\n",
       " '57293c246aef051400154bb9',\n",
       " '572758e0f1498d1400e8f6b0',\n",
       " '5ad3a733604f3c001a3feacb',\n",
       " '5726219489a1e219009ac2d0',\n",
       " '5a7505e497ca42001a521de3',\n",
       " '5a55106f134fea001a0e18b1',\n",
       " '5ad0415577cf76001a686f06',\n",
       " '5ad25a8bd7d075001a428e33',\n",
       " '57286f373acd2414000df9dc',\n",
       " '5ad40d89604f3c001a4000d4',\n",
       " '57308f6b8ab72b1400f9c580',\n",
       " '5a8373a7e60761001a2eb733',\n",
       " '570966e0200fba1400367f50',\n",
       " '5726398589a1e219009ac589',\n",
       " '572826634b864d19001645be',\n",
       " '5a3e539a378766001a00258c',\n",
       " '5ad03b4677cf76001a686ea2',\n",
       " '57263c78ec44d21400f3dc7c',\n",
       " '5711119cb654c5140001fae4',\n",
       " '5ad22cd0d7d075001a428619',\n",
       " '5a82432131013a001a33536f',\n",
       " '5729f8516aef05140015516e',\n",
       " '573007fab2c2fd140056876f',\n",
       " '5ad4e90e5b96ef001a10a608',\n",
       " '5a81f0f031013a001a334faa',\n",
       " '573088da069b53140083216b',\n",
       " '5ad4bbbb5b96ef001a109e8a',\n",
       " '57293ca73f37b3190047815e',\n",
       " '57263eaa38643c19005ad371',\n",
       " '571ccc00dd7acb1400e4c15a',\n",
       " '5ad56e5c5b96ef001a10aea1',\n",
       " '5a2c30dabfd06b001a5aea2c',\n",
       " '5ad044f977cf76001a686f61',\n",
       " '5727fc37ff5b5019007d9a1b',\n",
       " '5725b81b271a42140099d09a',\n",
       " '5a7b402121c2de001afe9e10',\n",
       " '57339eb9d058e614000b5ef8',\n",
       " '5ad4d5e15b96ef001a10a29c',\n",
       " '5705f09e75f01819005e77a5',\n",
       " '570d2556fed7b91900d45c4b',\n",
       " '5ad0403c77cf76001a686ef0',\n",
       " '5727526cdd62a815002e9b0f',\n",
       " '572820512ca10214002d9e76',\n",
       " '57377083c3c5551400e51ee2',\n",
       " '573786b51c45671900574490',\n",
       " '5730b4282461fd1900a9cfc9',\n",
       " '56e1c3e1e3433e1400423149',\n",
       " '57263fd138643c19005ad37b',\n",
       " '5ad50fe55b96ef001a10ab4f',\n",
       " '5ad0316177cf76001a686ddd',\n",
       " '5ad0475c77cf76001a686f86',\n",
       " '572fd7b8947a6a140053cd3e',\n",
       " '571126dfa58dae1900cd6cb2',\n",
       " '5ad56ef05b96ef001a10aeab',\n",
       " '5733a560d058e614000b5f79',\n",
       " '5733eb34d058e614000b65ce',\n",
       " '5ad04de377cf76001a686fa8',\n",
       " '56e17a7ccd28a01900c679a3',\n",
       " '5ad265efd7d075001a4291d2',\n",
       " '56e19557e3433e1400422ff1',\n",
       " '5a57fe29770dc0001aeeff1d',\n",
       " '5711628a2419e314009555e1',\n",
       " '5ad4f7895b96ef001a10a7f4',\n",
       " '5ad25b9ed7d075001a428e6e',\n",
       " '57287f6a3acd2414000dfa54',\n",
       " '5a3e495c378766001a002545',\n",
       " '5730bc308ab72b1400f9c740',\n",
       " '5acfefcc77cf76001a6865ae',\n",
       " '572860e03acd2414000df977',\n",
       " '5ad268b2d7d075001a42928c',\n",
       " '5730aa52069b53140083221d',\n",
       " '5729506d6aef051400154cac',\n",
       " '571c8eb9dd7acb1400e4c0f9',\n",
       " '5727d4922ca10214002d977e',\n",
       " '5725c95f38643c19005accf3',\n",
       " '5730b255396df919000962b3',\n",
       " '5726baf2dd62a815002e8e74',\n",
       " '5726f2375951b619008f8313',\n",
       " '5727dd2e4b864d1900163ebc',\n",
       " '5a2c3efbbfd06b001a5aea97',\n",
       " '5725be0f271a42140099d119',\n",
       " '5730126ba23a5019007fcd0c',\n",
       " '5a3e539a378766001a00258d',\n",
       " '57264c42dd62a815002e80c9',\n",
       " '5acfa8a277cf76001a68576e',\n",
       " '5737a25ac3c5551400e51f54',\n",
       " '57264586f1498d1400e8dac7',\n",
       " '5ad56d3e5b96ef001a10ae88',\n",
       " '56dde0379a695914005b9636',\n",
       " '5a82432131013a001a33536e',\n",
       " '572756265951b619008f886e',\n",
       " '5ad02f4977cf76001a686d75',\n",
       " '57263b1638643c19005ad334',\n",
       " '57293d6d1d046914007791b7',\n",
       " '5ad2690ed7d075001a4292b2',\n",
       " '5a838b42e60761001a2eb7a7',\n",
       " '5ad268cbd7d075001a429296',\n",
       " '572726c9708984140094da7c',\n",
       " '5729fd56af94a219006aa730',\n",
       " '5ad26e85d7d075001a4293f2',\n",
       " '57302faa04bcaa1900d77312',\n",
       " '57285ed5ff5b5019007da1b8',\n",
       " '572756265951b619008f886d',\n",
       " '5727cff1ff5b5019007d95c7',\n",
       " '5ad3ba81604f3c001a3fee9e',\n",
       " '572944e03f37b319004781e3',\n",
       " '5a1c6d30b4fb5d0018714623',\n",
       " '5ad40a72604f3c001a3fffad',\n",
       " '5a25ab1bef59cd001a623c35',\n",
       " '57376a1bc3c5551400e51ec5',\n",
       " '57274971708984140094dbbb',\n",
       " '57286192ff5b5019007da1dc',\n",
       " '5ad0316177cf76001a686dde',\n",
       " '5ad0354e77cf76001a686e1f',\n",
       " '5acf941b77cf76001a685331',\n",
       " '5ad24b13d7d075001a428bce',\n",
       " '570d26efb3d812140066d48f',\n",
       " '5a2eb84ba83784001a7d2423',\n",
       " '57377aac1c4567190057447a',\n",
       " '57339a554776f41900660e77',\n",
       " '5a664314c2b11c001a425eda',\n",
       " '5725bbec271a42140099d0d5',\n",
       " '5a1c539bb4fb5d00187145fa',\n",
       " '5acfa29c77cf76001a685669',\n",
       " '5727fc37ff5b5019007d9a18',\n",
       " '5726398589a1e219009ac588',\n",
       " '5ad26000d7d075001a428faf',\n",
       " '5ad140ab645df0001a2d13ca',\n",
       " '57111ab8a58dae1900cd6c40',\n",
       " '57115dbe2419e314009555a5',\n",
       " '57286dfa2ca10214002da334',\n",
       " '5ad25af2d7d075001a428e56',\n",
       " '5a7b103b21c2de001afe9d32',\n",
       " '57377083c3c5551400e51ee0',\n",
       " '57332b66d058e614000b575c',\n",
       " '573081c2069b531400832134',\n",
       " '5725d183271a42140099d241',\n",
       " '5ad3b826604f3c001a3fee4b',\n",
       " '5733a1854776f41900660f0d',\n",
       " '5acff6ea77cf76001a686682',\n",
       " '5733314e4776f4190066076e',\n",
       " '5728e5224b864d1900165035',\n",
       " '572a02483f37b3190047864b',\n",
       " '5a0c6698f5590b0018dab3e4',\n",
       " '5ad2434fd7d075001a4289da',\n",
       " '5726431d271a42140099d7f8',\n",
       " '5729fa40af94a219006aa711',\n",
       " '5a1c8ea7b4fb5d00187146d2',\n",
       " '5a564b1e6349e2001acdcd10',\n",
       " '5a38d4b9a4b263001a8c194a',\n",
       " '5a668ef8f038b7001ab0bfe0',\n",
       " '572867543acd2414000df9a4',\n",
       " '5ad248f7d7d075001a428b8f',\n",
       " '5a5909b13e1742001a15cf50',\n",
       " '5ad10e0f645df0001a2d0b73',\n",
       " '57268e2bf1498d1400e8e3b2',\n",
       " '572658daf1498d1400e8dcac',\n",
       " '5ad562525b96ef001a10ad50',\n",
       " '5ad3ef13604f3c001a3ff7f9',\n",
       " '5a665338846392001a1e1acb',\n",
       " '572ffe6fb2c2fd14005686f1',\n",
       " '57373a9fc3c5551400e51e7b',\n",
       " '5a820ebf31013a001a33516b',\n",
       " '570610b275f01819005e792e',\n",
       " '5726dcbddd62a815002e9320',\n",
       " '571cd88ddd7acb1400e4c190',\n",
       " '5a3e2a95378766001a0024b0',\n",
       " '5ad4e90e5b96ef001a10a60c',\n",
       " '5a823a7731013a001a335309',\n",
       " '57309564069b5314008321a8',\n",
       " '5acfa93777cf76001a685783',\n",
       " '5ad54c2f5b96ef001a10ac5f',\n",
       " '572655e5f1498d1400e8dc62',\n",
       " '5ad02e6777cf76001a686d46',\n",
       " '5733f309d058e614000b664a',\n",
       " '5a837038e60761001a2eb6f4',\n",
       " '573750f61c45671900574468',\n",
       " '5ad0327377cf76001a686e07',\n",
       " '5a3e582e378766001a0025a3',\n",
       " '5733a45d4776f41900660f25',\n",
       " '56e1ddfce3433e14004231d5',\n",
       " '57268bf9dd62a815002e890c',\n",
       " '57264228ec44d21400f3dcf9',\n",
       " '57268527708984140094c8c2',\n",
       " '5ad502385b96ef001a10a958',\n",
       " '5a25f38dc93d92001a40035c',\n",
       " '5a6cee244eec6b001a80a6ec',\n",
       " '57332442d058e614000b5720',\n",
       " '5a8397d0e60761001a2eb7fb',\n",
       " '5a667761846392001a1e1c38',\n",
       " '5ad2623dd7d075001a429095',\n",
       " '5a2ec431a83784001a7d2452',\n",
       " '5ad14337645df0001a2d145c',\n",
       " '5a38baa2a4b263001a8c18dc',\n",
       " '5ad4c6775b96ef001a10a014',\n",
       " '572f57c704bcaa1900d76870',\n",
       " '5ad03b7977cf76001a686eac',\n",
       " '5a665870846392001a1e1af4',\n",
       " '5ad4e3a15b96ef001a10a562',\n",
       " '5ad5648b5b96ef001a10ad94',\n",
       " '5a605eaae9e1cc001a33cd54',\n",
       " '5ad53e615b96ef001a10abdb',\n",
       " '5a2ed354a83784001a7d24f0',\n",
       " '57287c142ca10214002da3d2',\n",
       " '571112ada58dae1900cd6bcd',\n",
       " '5a667457846392001a1e1c2e',\n",
       " '57280f974b864d1900164372',\n",
       " '5737a25ac3c5551400e51f53',\n",
       " '57302a3aa23a5019007fced1',\n",
       " '5a2ec82fa83784001a7d2470',\n",
       " '5a822dc931013a001a335298',\n",
       " '5729ef266aef05140015511d',\n",
       " '5729f39a6aef051400155150',\n",
       " '5ad04f7977cf76001a686fbc',\n",
       " '572649d8f1498d1400e8db3a',\n",
       " '5acfeae177cf76001a6864a1',\n",
       " '5a7b054521c2de001afe9ccf',\n",
       " '56e1b355e3433e14004230b2',\n",
       " '5a0c7b88f5590b0018dab41f',\n",
       " '5ad3ea77604f3c001a3ff6e0',\n",
       " '5ad02e5d77cf76001a686d3b',\n",
       " '56e1b62ecd28a01900c67aa5',\n",
       " '56e1aff7cd28a01900c67a6c',\n",
       " '5729517d6aef051400154cc9',\n",
       " '5726e179dd62a815002e93b0',\n",
       " '57300c68947a6a140053cff4',\n",
       " '5728804b4b864d1900164a48',\n",
       " '5a6381d868151a001a922323',\n",
       " '5a6ce6164eec6b001a80a69d',\n",
       " '5729f1c13f37b319004785e9',\n",
       " '5711488ab654c5140001fc3e',\n",
       " '570d391fb3d812140066d575',\n",
       " '5ad03c2977cf76001a686eb7',\n",
       " '5727ee372ca10214002d99ef',\n",
       " '5a2c14b4bfd06b001a5ae9d6',\n",
       " '5ad1373b645df0001a2d11cf',\n",
       " '5ad24319d7d075001a4289cc',\n",
       " '5ad4c99d5b96ef001a10a0a3',\n",
       " '5a2c08aebfd06b001a5ae989',\n",
       " '5728e5224b864d1900165033',\n",
       " '5ad532575b96ef001a10ab7d',\n",
       " '5a234eef82b03a001a4aa76d',\n",
       " '5ad27a80d7d075001a4295fd',\n",
       " '5730bb522461fd1900a9d013',\n",
       " '572a0b101d046914007796e9',\n",
       " '5ad3bc28604f3c001a3feee0',\n",
       " '5a590de93e1742001a15cf57',\n",
       " '572691545951b619008f76e3',\n",
       " '5a83a80ae60761001a2eb855',\n",
       " '5ad039ec77cf76001a686e67',\n",
       " '572754fff1498d1400e8f660',\n",
       " '56de17f9cffd8e1900b4b5e1',\n",
       " '57261dab38643c19005ad038',\n",
       " '5ad25e17d7d075001a428f15',\n",
       " '5a838676e60761001a2eb764',\n",
       " '572fe53104bcaa1900d76e6d',\n",
       " '5a6cefd64eec6b001a80a707',\n",
       " '572756fe708984140094dc72',\n",
       " '57266c015951b619008f723b',\n",
       " '5729f4b41d0469140077968f',\n",
       " '5ad40358604f3c001a3ffd7d',\n",
       " '572943ab1d0469140077921a',\n",
       " '5a57c667770dc0001aeefd6a',\n",
       " '57332a734776f41900660727',\n",
       " '56e1e9dfe3433e14004231fc',\n",
       " '57282358ff5b5019007d9de1',\n",
       " '571cb010dd7acb1400e4c12c',\n",
       " '5a1c60f0b4fb5d001871460e',\n",
       " '5729e2316aef0514001550c4',\n",
       " '5a8937553b2508001a72a52e',\n",
       " '56e17e6ee3433e1400422f80',\n",
       " '5ad56e5c5b96ef001a10ae9f',\n",
       " '5ad39d53604f3c001a3fe8d3',\n",
       " '5730876a396df9190009617d',\n",
       " '5a550e6f134fea001a0e1880',\n",
       " '5a3e2ba4378766001a0024bc',\n",
       " ...}"
      ]
     },
     "execution_count": 107,
     "metadata": {},
     "output_type": "execute_result"
    }
   ],
   "source": [
    "set(list(data.keys()))"
   ]
  },
  {
   "cell_type": "code",
   "execution_count": 1,
   "metadata": {},
   "outputs": [],
   "source": [
    "from scripts.utils import *"
   ]
  },
  {
   "cell_type": "code",
   "execution_count": 8,
   "metadata": {},
   "outputs": [],
   "source": [
    "data_flattened = flatten_squad_data('data/dev-v2.0.json', train_data = False)"
   ]
  },
  {
   "cell_type": "code",
   "execution_count": 9,
   "metadata": {},
   "outputs": [
    {
     "data": {
      "text/plain": [
       "11873"
      ]
     },
     "execution_count": 9,
     "metadata": {},
     "output_type": "execute_result"
    }
   ],
   "source": [
    "len(data_flattened)"
   ]
  },
  {
   "cell_type": "code",
   "execution_count": 11,
   "metadata": {},
   "outputs": [
    {
     "data": {
      "text/plain": [
       "{'context': 'normans',\n",
       " 'question': 'the normans (norman: nourmands; french: normands; latin: normanni) were the people who in the 10th and 11th centuries gave their name to normandy, a region in france. they were descended from norse (\"norman\" comes from \"norseman\") raiders and pirates from denmark, iceland and norway who, under their leader rollo, agreed to swear fealty to king charles iii of west francia. through generations of assimilation and mixing with the native frankish and roman-gaulish populations, their descendants would gradually merge with the carolingian-based cultures of west francia. the distinct cultural and ethnic identity of the normans emerged initially in the first half of the 10th century, and it continued to evolve over the succeeding centuries.',\n",
       " 'id_here': 'in what country is normandy located?'}"
      ]
     },
     "execution_count": 11,
     "metadata": {},
     "output_type": "execute_result"
    }
   ],
   "source": [
    "data_flattened[0]"
   ]
  },
  {
   "cell_type": "code",
   "execution_count": 5,
   "metadata": {},
   "outputs": [],
   "source": [
    "import json\n",
    "with open('data.txt', 'w') as outfile:\n",
    "    json.dump(a, outfile)\n"
   ]
  },
  {
   "cell_type": "code",
   "execution_count": null,
   "metadata": {},
   "outputs": [],
   "source": []
  },
  {
   "cell_type": "code",
   "execution_count": 33,
   "metadata": {},
   "outputs": [],
   "source": [
    "import torch\n",
    "from transformers import *\n",
    "%load_ext autoreload\n",
    "%autoreload 2"
   ]
  },
  {
   "cell_type": "code",
   "execution_count": 2,
   "metadata": {},
   "outputs": [
    {
     "name": "stdout",
     "output_type": "stream",
     "text": [
      "Collecting sklearn\n",
      "  Downloading https://files.pythonhosted.org/packages/1e/7a/dbb3be0ce9bd5c8b7e3d87328e79063f8b263b2b1bfa4774cb1147bfcd3f/sklearn-0.0.tar.gz\n",
      "Collecting scikit-learn\n",
      "\u001b[?25l  Downloading https://files.pythonhosted.org/packages/9f/c5/e5267eb84994e9a92a2c6a6ee768514f255d036f3c8378acfa694e9f2c99/scikit_learn-0.21.3-cp37-cp37m-manylinux1_x86_64.whl (6.7MB)\n",
      "\u001b[K     |████████████████████████████████| 6.7MB 1.1MB/s eta 0:00:01\n",
      "\u001b[?25hRequirement already satisfied: joblib>=0.11 in /home/gondi/anaconda3/envs/dlt_project/lib/python3.7/site-packages (from scikit-learn->sklearn) (0.14.0)\n",
      "Requirement already satisfied: scipy>=0.17.0 in /home/gondi/anaconda3/envs/dlt_project/lib/python3.7/site-packages (from scikit-learn->sklearn) (1.3.2)\n",
      "Requirement already satisfied: numpy>=1.11.0 in /home/gondi/anaconda3/envs/dlt_project/lib/python3.7/site-packages (from scikit-learn->sklearn) (1.17.4)\n",
      "Building wheels for collected packages: sklearn\n",
      "  Building wheel for sklearn (setup.py) ... \u001b[?25ldone\n",
      "\u001b[?25h  Created wheel for sklearn: filename=sklearn-0.0-py2.py3-none-any.whl size=1316 sha256=842572359e19f3b3859ad68d9fe535ceaf85cf4fae0e1d05f838c81f8d72df0c\n",
      "  Stored in directory: /home/gondi/.cache/pip/wheels/76/03/bb/589d421d27431bcd2c6da284d5f2286c8e3b2ea3cf1594c074\n",
      "Successfully built sklearn\n",
      "Installing collected packages: scikit-learn, sklearn\n",
      "Successfully installed scikit-learn-0.21.3 sklearn-0.0\n"
     ]
    }
   ],
   "source": [
    "!pip install sklearn"
   ]
  },
  {
   "cell_type": "code",
   "execution_count": 60,
   "metadata": {},
   "outputs": [],
   "source": [
    "tokenizer = BertTokenizer.from_pretrained('bert-base-uncased')\n",
    "# model = BertForQuestionAnswering.from_pretrained('bert-large-uncased-whole-word-masking-finetuned-squad')\n",
    "model = BertForQuestionAnswering.from_pretrained('bert-base-uncased')\n",
    "question, text = \"Who was Jim Henson?\", \"Jim Henson was a nice puppet\"\n",
    "input_text = \"[CLS] \" + question + \" [SEP] \" + text + \" [SEP]\"\n",
    "input_ids = tokenizer.encode(input_text)\n"
   ]
  },
  {
   "cell_type": "code",
   "execution_count": 9,
   "metadata": {},
   "outputs": [],
   "source": [
    "token_type_ids = [0 if i <= input_ids.index(102) else 1 for i in range(len(input_ids))]"
   ]
  },
  {
   "cell_type": "code",
   "execution_count": 14,
   "metadata": {},
   "outputs": [
    {
     "name": "stdout",
     "output_type": "stream",
     "text": [
      "a nice puppet\n"
     ]
    }
   ],
   "source": [
    "start_scores, end_scores = model(torch.tensor([input_ids]), token_type_ids=torch.tensor([token_type_ids]))\n",
    "all_tokens = tokenizer.convert_ids_to_tokens(input_ids)  \n",
    "print(' '.join(all_tokens[torch.argmax(start_scores) : torch.argmax(end_scores)+1]))        "
   ]
  },
  {
   "cell_type": "code",
   "execution_count": 27,
   "metadata": {},
   "outputs": [],
   "source": [
    "from torch.utils.tensorboard import SummaryWriter\n",
    "import numpy as np"
   ]
  },
  {
   "cell_type": "code",
   "execution_count": 30,
   "metadata": {},
   "outputs": [],
   "source": [
    "writer = SummaryWriter()\n",
    "\n",
    "for n_iter in range(100):\n",
    "    writer.add_scalar('Loss/train', np.random.random(), n_iter)\n",
    "    writer.add_scalar('Loss/test', np.random.random(), n_iter)\n",
    "    writer.add_scalar('Accuracy/train', np.random.random(), n_iter)\n",
    "    writer.add_scalar('Accuracy/test', np.random.random(), n_iter)"
   ]
  },
  {
   "cell_type": "code",
   "execution_count": 2,
   "metadata": {},
   "outputs": [],
   "source": [
    "# From here"
   ]
  },
  {
   "cell_type": "code",
   "execution_count": 30,
   "metadata": {},
   "outputs": [],
   "source": [
    "from scripts.utils_squad_evaluate import *\n",
    "from scripts.utils_squad import *"
   ]
  },
  {
   "cell_type": "code",
   "execution_count": 31,
   "metadata": {},
   "outputs": [],
   "source": [
    "squad_examples = read_squad_examples('data/train-v2.0.json', True, True)"
   ]
  },
  {
   "cell_type": "code",
   "execution_count": 32,
   "metadata": {},
   "outputs": [
    {
     "data": {
      "text/plain": [
       "130319"
      ]
     },
     "execution_count": 32,
     "metadata": {},
     "output_type": "execute_result"
    }
   ],
   "source": [
    "len(squad_examples)"
   ]
  },
  {
   "cell_type": "code",
   "execution_count": 33,
   "metadata": {},
   "outputs": [],
   "source": [
    "import torch\n",
    "from transformers import *"
   ]
  },
  {
   "cell_type": "code",
   "execution_count": 34,
   "metadata": {},
   "outputs": [],
   "source": [
    "tokenizer = BertTokenizer.from_pretrained('bert-base-uncased')"
   ]
  },
  {
   "cell_type": "code",
   "execution_count": 35,
   "metadata": {},
   "outputs": [],
   "source": [
    "features = convert_examples_to_features(squad_examples[:1000], tokenizer=tokenizer, max_seq_length=384, doc_stride=128, max_query_length=64, is_training=True)"
   ]
  },
  {
   "cell_type": "code",
   "execution_count": 36,
   "metadata": {},
   "outputs": [],
   "source": [
    "# squad_examples[173]"
   ]
  },
  {
   "cell_type": "code",
   "execution_count": 37,
   "metadata": {},
   "outputs": [
    {
     "data": {
      "text/plain": [
       "['[CLS]']"
      ]
     },
     "execution_count": 37,
     "metadata": {},
     "output_type": "execute_result"
    }
   ],
   "source": [
    "features[174].tokens[features[174].start_position:features[174].end_position+1]"
   ]
  },
  {
   "cell_type": "code",
   "execution_count": 38,
   "metadata": {},
   "outputs": [
    {
     "data": {
      "text/plain": [
       "384"
      ]
     },
     "execution_count": 38,
     "metadata": {},
     "output_type": "execute_result"
    }
   ],
   "source": [
    "len(features[174].input_mask)"
   ]
  },
  {
   "cell_type": "code",
   "execution_count": 39,
   "metadata": {},
   "outputs": [
    {
     "data": {
      "text/plain": [
       "373"
      ]
     },
     "execution_count": 39,
     "metadata": {},
     "output_type": "execute_result"
    }
   ],
   "source": [
    "features[173].paragraph_len"
   ]
  },
  {
   "cell_type": "code",
   "execution_count": 40,
   "metadata": {},
   "outputs": [],
   "source": [
    "# features = convert_examples_to_features(squad_examples[:1], tokenizer=tokenizer, max_seq_length=384, doc_stride=128, max_query_length=64, is_training=True)"
   ]
  },
  {
   "cell_type": "code",
   "execution_count": 41,
   "metadata": {},
   "outputs": [],
   "source": [
    "# features[0].tokens"
   ]
  },
  {
   "cell_type": "code",
   "execution_count": 42,
   "metadata": {},
   "outputs": [],
   "source": [
    "import torch\n",
    "all_input_ids = torch.tensor([f.input_ids for f in features], dtype=torch.long)\n",
    "all_input_mask = torch.tensor([f.input_mask for f in features], dtype=torch.long)\n",
    "all_segment_ids = torch.tensor([f.segment_ids for f in features], dtype=torch.long)\n",
    "all_cls_index = torch.tensor([f.cls_index for f in features], dtype=torch.long)\n",
    "all_p_mask = torch.tensor([f.p_mask for f in features], dtype=torch.float)"
   ]
  },
  {
   "cell_type": "code",
   "execution_count": 43,
   "metadata": {},
   "outputs": [],
   "source": [
    "all_start_positions = torch.tensor([f.start_position for f in features], dtype=torch.long)\n",
    "all_end_positions = torch.tensor([f.end_position for f in features], dtype=torch.long)"
   ]
  },
  {
   "cell_type": "code",
   "execution_count": 44,
   "metadata": {},
   "outputs": [],
   "source": [
    "from torch.utils.data import *"
   ]
  },
  {
   "cell_type": "code",
   "execution_count": 45,
   "metadata": {},
   "outputs": [],
   "source": [
    "dataset = TensorDataset(all_input_ids, all_input_mask, all_segment_ids,\n",
    "                                all_start_positions, all_end_positions,\n",
    "                                all_cls_index, all_p_mask)"
   ]
  },
  {
   "cell_type": "code",
   "execution_count": 63,
   "metadata": {},
   "outputs": [
    {
     "data": {
      "text/plain": [
       "1027"
      ]
     },
     "execution_count": 63,
     "metadata": {},
     "output_type": "execute_result"
    }
   ],
   "source": [
    "len(dataset)"
   ]
  },
  {
   "cell_type": "code",
   "execution_count": 68,
   "metadata": {},
   "outputs": [],
   "source": [
    "indices = list(np.random.randint(1027, size=100))"
   ]
  },
  {
   "cell_type": "code",
   "execution_count": null,
   "metadata": {},
   "outputs": [],
   "source": []
  },
  {
   "cell_type": "code",
   "execution_count": 69,
   "metadata": {},
   "outputs": [],
   "source": [
    "sampler = SubsetRandomSampler(indices)"
   ]
  },
  {
   "cell_type": "code",
   "execution_count": 70,
   "metadata": {},
   "outputs": [],
   "source": [
    "train_dataloader = DataLoader(dataset, sampler=sampler, batch_size=2)"
   ]
  },
  {
   "cell_type": "code",
   "execution_count": 71,
   "metadata": {},
   "outputs": [
    {
     "data": {
      "text/plain": [
       "<torch.utils.data.dataloader.DataLoader at 0x7f0064354cc0>"
      ]
     },
     "execution_count": 71,
     "metadata": {},
     "output_type": "execute_result"
    }
   ],
   "source": [
    "train_dataloader"
   ]
  },
  {
   "cell_type": "code",
   "execution_count": 75,
   "metadata": {},
   "outputs": [],
   "source": [
    "batch_num = 0\n",
    "batch_here = None\n",
    "for batch in train_dataloader:\n",
    "    batch_num += 1\n",
    "    batch_here = batch\n",
    "    break"
   ]
  },
  {
   "cell_type": "code",
   "execution_count": 78,
   "metadata": {},
   "outputs": [
    {
     "data": {
      "text/plain": [
       "torch.Size([2, 384])"
      ]
     },
     "execution_count": 78,
     "metadata": {},
     "output_type": "execute_result"
    }
   ],
   "source": [
    "batch_here[0].shape"
   ]
  },
  {
   "cell_type": "code",
   "execution_count": 64,
   "metadata": {},
   "outputs": [],
   "source": [
    "model = BertForQuestionAnswering.from_pretrained('bert-base-uncased')"
   ]
  },
  {
   "cell_type": "code",
   "execution_count": 73,
   "metadata": {},
   "outputs": [],
   "source": [
    "output = model.bert(batch[0], attention_mask=batch[1])"
   ]
  },
  {
   "cell_type": "code",
   "execution_count": 81,
   "metadata": {},
   "outputs": [
    {
     "data": {
      "text/plain": [
       "torch.Size([2, 384, 768])"
      ]
     },
     "execution_count": 81,
     "metadata": {},
     "output_type": "execute_result"
    }
   ],
   "source": [
    "output[0].shape"
   ]
  },
  {
   "cell_type": "code",
   "execution_count": 83,
   "metadata": {},
   "outputs": [],
   "source": [
    "logits = model.qa_outputs(output[0])"
   ]
  },
  {
   "cell_type": "code",
   "execution_count": 86,
   "metadata": {},
   "outputs": [],
   "source": [
    "start_logits, end_logits = logits.split(1, dim=-1)"
   ]
  },
  {
   "cell_type": "code",
   "execution_count": 88,
   "metadata": {},
   "outputs": [],
   "source": [
    "start_logits = start_logits.squeeze(-1)"
   ]
  },
  {
   "cell_type": "code",
   "execution_count": 90,
   "metadata": {},
   "outputs": [
    {
     "data": {
      "text/plain": [
       "torch.Size([2, 384])"
      ]
     },
     "execution_count": 90,
     "metadata": {},
     "output_type": "execute_result"
    }
   ],
   "source": [
    "start_logits.shape"
   ]
  },
  {
   "cell_type": "code",
   "execution_count": null,
   "metadata": {},
   "outputs": [],
   "source": []
  },
  {
   "cell_type": "code",
   "execution_count": null,
   "metadata": {},
   "outputs": [],
   "source": []
  },
  {
   "cell_type": "code",
   "execution_count": 4,
   "metadata": {},
   "outputs": [],
   "source": [
    "import torch \n",
    "from torch.utils.data import *"
   ]
  },
  {
   "cell_type": "code",
   "execution_count": 5,
   "metadata": {},
   "outputs": [],
   "source": [
    "dataset = TensorDataset(torch.Tensor([1,2,3]), torch.Tensor([4,5,6]))"
   ]
  },
  {
   "cell_type": "code",
   "execution_count": 22,
   "metadata": {},
   "outputs": [],
   "source": [
    "sampler = SequentialSampler(dataset)"
   ]
  },
  {
   "cell_type": "code",
   "execution_count": 23,
   "metadata": {},
   "outputs": [],
   "source": [
    "train_dataloader = DataLoader(dataset, sampler=sampler, batch_size=1)"
   ]
  },
  {
   "cell_type": "code",
   "execution_count": 24,
   "metadata": {},
   "outputs": [
    {
     "name": "stdout",
     "output_type": "stream",
     "text": [
      "[tensor([1.]), tensor([4.])]\n",
      "[tensor([2.]), tensor([5.])]\n",
      "[tensor([3.]), tensor([6.])]\n"
     ]
    }
   ],
   "source": [
    "for batch in train_dataloader:\n",
    "    print(batch)"
   ]
  },
  {
   "cell_type": "code",
   "execution_count": null,
   "metadata": {},
   "outputs": [],
   "source": []
  },
  {
   "cell_type": "code",
   "execution_count": null,
   "metadata": {},
   "outputs": [],
   "source": []
  },
  {
   "cell_type": "code",
   "execution_count": null,
   "metadata": {},
   "outputs": [],
   "source": []
  },
  {
   "cell_type": "code",
   "execution_count": 80,
   "metadata": {},
   "outputs": [
    {
     "name": "stderr",
     "output_type": "stream",
     "text": [
      "100%|██████████| 492/492 [00:00<00:00, 76327.77B/s]\n",
      "100%|██████████| 267967963/267967963 [01:06<00:00, 4003162.40B/s]\n"
     ]
    }
   ],
   "source": [
    "model = DistilBertForQuestionAnswering.from_pretrained('distilbert-base-uncased')"
   ]
  },
  {
   "cell_type": "code",
   "execution_count": 81,
   "metadata": {},
   "outputs": [],
   "source": [
    "tokenizer = DistilBertTokenizer.from_pretrained('distilbert-base-uncased')"
   ]
  },
  {
   "cell_type": "code",
   "execution_count": null,
   "metadata": {},
   "outputs": [],
   "source": []
  }
 ],
 "metadata": {
  "kernelspec": {
   "display_name": "Python 3",
   "language": "python",
   "name": "python3"
  },
  "language_info": {
   "codemirror_mode": {
    "name": "ipython",
    "version": 3
   },
   "file_extension": ".py",
   "mimetype": "text/x-python",
   "name": "python",
   "nbconvert_exporter": "python",
   "pygments_lexer": "ipython3",
   "version": "3.7.3"
  }
 },
 "nbformat": 4,
 "nbformat_minor": 2
}
